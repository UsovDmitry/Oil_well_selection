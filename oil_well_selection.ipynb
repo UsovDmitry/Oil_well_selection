{
 "cells": [
  {
   "cell_type": "markdown",
   "metadata": {
    "toc": true
   },
   "source": [
    "<h1>Содержание<span class=\"tocSkip\"></span></h1>\n",
    "<div class=\"toc\"><ul class=\"toc-item\"><li><span><a href=\"#Загрузка-и-подготовка-данных\" data-toc-modified-id=\"Загрузка-и-подготовка-данных-1\"><span class=\"toc-item-num\">1&nbsp;&nbsp;</span>Загрузка и подготовка данных</a></span></li><li><span><a href=\"#Обучение-и-проверка-модели\" data-toc-modified-id=\"Обучение-и-проверка-модели-2\"><span class=\"toc-item-num\">2&nbsp;&nbsp;</span>Обучение и проверка модели</a></span></li><li><span><a href=\"#Подготовка-к-расчёту-прибыли\" data-toc-modified-id=\"Подготовка-к-расчёту-прибыли-3\"><span class=\"toc-item-num\">3&nbsp;&nbsp;</span>Подготовка к расчёту прибыли</a></span></li><li><span><a href=\"#Расчёт-прибыли-и-рисков\" data-toc-modified-id=\"Расчёт-прибыли-и-рисков-4\"><span class=\"toc-item-num\">4&nbsp;&nbsp;</span>Расчёт прибыли и рисков</a></span></li><li><span><a href=\"#Чек-лист-готовности-проекта\" data-toc-modified-id=\"Чек-лист-готовности-проекта-5\"><span class=\"toc-item-num\">5&nbsp;&nbsp;</span>Чек-лист готовности проекта</a></span></li></ul></div>"
   ]
  },
  {
   "cell_type": "markdown",
   "metadata": {},
   "source": [
    "# Выбор локации для скважины"
   ]
  },
  {
   "cell_type": "markdown",
   "metadata": {},
   "source": [
    "Допустим, вы работаете в добывающей компании «ГлавРосГосНефть». Нужно решить, где бурить новую скважину.\n",
    "\n",
    "Вам предоставлены пробы нефти в трёх регионах: в каждом 10 000 месторождений, где измерили качество нефти и объём её запасов. Постройте модель машинного обучения, которая поможет определить регион, где добыча принесёт наибольшую прибыль. Проанализируйте возможную прибыль и риски техникой *Bootstrap.*\n",
    "\n",
    "Шаги для выбора локации:\n",
    "\n",
    "- В избранном регионе ищут месторождения, для каждого определяют значения признаков;\n",
    "- Строят модель и оценивают объём запасов;\n",
    "- Выбирают месторождения с самым высокими оценками значений. Количество месторождений зависит от бюджета компании и стоимости разработки одной скважины;\n",
    "- Прибыль равна суммарной прибыли отобранных месторождений."
   ]
  },
  {
   "cell_type": "markdown",
   "metadata": {},
   "source": [
    "## Загрузка и подготовка данных"
   ]
  },
  {
   "cell_type": "code",
   "execution_count": 1,
   "metadata": {},
   "outputs": [],
   "source": [
    "import pandas as pd\n",
    "import numpy as np\n",
    "import seaborn as sns\n",
    "import matplotlib.pyplot as plt\n",
    "\n",
    "from sklearn.linear_model import LinearRegression\n",
    "from sklearn.model_selection import train_test_split\n",
    "from sklearn.metrics import mean_squared_error"
   ]
  },
  {
   "cell_type": "code",
   "execution_count": 2,
   "metadata": {},
   "outputs": [],
   "source": [
    "df1 = pd.read_csv('/datasets/geo_data_0.csv')\n",
    "df2 = pd.read_csv('/datasets/geo_data_1.csv')\n",
    "df3 = pd.read_csv('/datasets/geo_data_2.csv')"
   ]
  },
  {
   "cell_type": "code",
   "execution_count": 3,
   "metadata": {},
   "outputs": [
    {
     "data": {
      "text/html": [
       "<div>\n",
       "<style scoped>\n",
       "    .dataframe tbody tr th:only-of-type {\n",
       "        vertical-align: middle;\n",
       "    }\n",
       "\n",
       "    .dataframe tbody tr th {\n",
       "        vertical-align: top;\n",
       "    }\n",
       "\n",
       "    .dataframe thead th {\n",
       "        text-align: right;\n",
       "    }\n",
       "</style>\n",
       "<table border=\"1\" class=\"dataframe\">\n",
       "  <thead>\n",
       "    <tr style=\"text-align: right;\">\n",
       "      <th></th>\n",
       "      <th>id</th>\n",
       "      <th>f0</th>\n",
       "      <th>f1</th>\n",
       "      <th>f2</th>\n",
       "      <th>product</th>\n",
       "    </tr>\n",
       "  </thead>\n",
       "  <tbody>\n",
       "    <tr>\n",
       "      <th>0</th>\n",
       "      <td>txEyH</td>\n",
       "      <td>0.705745</td>\n",
       "      <td>-0.497823</td>\n",
       "      <td>1.221170</td>\n",
       "      <td>105.280062</td>\n",
       "    </tr>\n",
       "    <tr>\n",
       "      <th>1</th>\n",
       "      <td>2acmU</td>\n",
       "      <td>1.334711</td>\n",
       "      <td>-0.340164</td>\n",
       "      <td>4.365080</td>\n",
       "      <td>73.037750</td>\n",
       "    </tr>\n",
       "    <tr>\n",
       "      <th>2</th>\n",
       "      <td>409Wp</td>\n",
       "      <td>1.022732</td>\n",
       "      <td>0.151990</td>\n",
       "      <td>1.419926</td>\n",
       "      <td>85.265647</td>\n",
       "    </tr>\n",
       "    <tr>\n",
       "      <th>3</th>\n",
       "      <td>iJLyR</td>\n",
       "      <td>-0.032172</td>\n",
       "      <td>0.139033</td>\n",
       "      <td>2.978566</td>\n",
       "      <td>168.620776</td>\n",
       "    </tr>\n",
       "    <tr>\n",
       "      <th>4</th>\n",
       "      <td>Xdl7t</td>\n",
       "      <td>1.988431</td>\n",
       "      <td>0.155413</td>\n",
       "      <td>4.751769</td>\n",
       "      <td>154.036647</td>\n",
       "    </tr>\n",
       "  </tbody>\n",
       "</table>\n",
       "</div>"
      ],
      "text/plain": [
       "      id        f0        f1        f2     product\n",
       "0  txEyH  0.705745 -0.497823  1.221170  105.280062\n",
       "1  2acmU  1.334711 -0.340164  4.365080   73.037750\n",
       "2  409Wp  1.022732  0.151990  1.419926   85.265647\n",
       "3  iJLyR -0.032172  0.139033  2.978566  168.620776\n",
       "4  Xdl7t  1.988431  0.155413  4.751769  154.036647"
      ]
     },
     "execution_count": 3,
     "metadata": {},
     "output_type": "execute_result"
    }
   ],
   "source": [
    "df1.head()"
   ]
  },
  {
   "cell_type": "code",
   "execution_count": 4,
   "metadata": {},
   "outputs": [
    {
     "data": {
      "text/html": [
       "<div>\n",
       "<style scoped>\n",
       "    .dataframe tbody tr th:only-of-type {\n",
       "        vertical-align: middle;\n",
       "    }\n",
       "\n",
       "    .dataframe tbody tr th {\n",
       "        vertical-align: top;\n",
       "    }\n",
       "\n",
       "    .dataframe thead th {\n",
       "        text-align: right;\n",
       "    }\n",
       "</style>\n",
       "<table border=\"1\" class=\"dataframe\">\n",
       "  <thead>\n",
       "    <tr style=\"text-align: right;\">\n",
       "      <th></th>\n",
       "      <th>id</th>\n",
       "      <th>f0</th>\n",
       "      <th>f1</th>\n",
       "      <th>f2</th>\n",
       "      <th>product</th>\n",
       "    </tr>\n",
       "  </thead>\n",
       "  <tbody>\n",
       "    <tr>\n",
       "      <th>0</th>\n",
       "      <td>kBEdx</td>\n",
       "      <td>-15.001348</td>\n",
       "      <td>-8.276000</td>\n",
       "      <td>-0.005876</td>\n",
       "      <td>3.179103</td>\n",
       "    </tr>\n",
       "    <tr>\n",
       "      <th>1</th>\n",
       "      <td>62mP7</td>\n",
       "      <td>14.272088</td>\n",
       "      <td>-3.475083</td>\n",
       "      <td>0.999183</td>\n",
       "      <td>26.953261</td>\n",
       "    </tr>\n",
       "    <tr>\n",
       "      <th>2</th>\n",
       "      <td>vyE1P</td>\n",
       "      <td>6.263187</td>\n",
       "      <td>-5.948386</td>\n",
       "      <td>5.001160</td>\n",
       "      <td>134.766305</td>\n",
       "    </tr>\n",
       "    <tr>\n",
       "      <th>3</th>\n",
       "      <td>KcrkZ</td>\n",
       "      <td>-13.081196</td>\n",
       "      <td>-11.506057</td>\n",
       "      <td>4.999415</td>\n",
       "      <td>137.945408</td>\n",
       "    </tr>\n",
       "    <tr>\n",
       "      <th>4</th>\n",
       "      <td>AHL4O</td>\n",
       "      <td>12.702195</td>\n",
       "      <td>-8.147433</td>\n",
       "      <td>5.004363</td>\n",
       "      <td>134.766305</td>\n",
       "    </tr>\n",
       "  </tbody>\n",
       "</table>\n",
       "</div>"
      ],
      "text/plain": [
       "      id         f0         f1        f2     product\n",
       "0  kBEdx -15.001348  -8.276000 -0.005876    3.179103\n",
       "1  62mP7  14.272088  -3.475083  0.999183   26.953261\n",
       "2  vyE1P   6.263187  -5.948386  5.001160  134.766305\n",
       "3  KcrkZ -13.081196 -11.506057  4.999415  137.945408\n",
       "4  AHL4O  12.702195  -8.147433  5.004363  134.766305"
      ]
     },
     "execution_count": 4,
     "metadata": {},
     "output_type": "execute_result"
    }
   ],
   "source": [
    "df2.head()"
   ]
  },
  {
   "cell_type": "code",
   "execution_count": 5,
   "metadata": {},
   "outputs": [
    {
     "data": {
      "text/html": [
       "<div>\n",
       "<style scoped>\n",
       "    .dataframe tbody tr th:only-of-type {\n",
       "        vertical-align: middle;\n",
       "    }\n",
       "\n",
       "    .dataframe tbody tr th {\n",
       "        vertical-align: top;\n",
       "    }\n",
       "\n",
       "    .dataframe thead th {\n",
       "        text-align: right;\n",
       "    }\n",
       "</style>\n",
       "<table border=\"1\" class=\"dataframe\">\n",
       "  <thead>\n",
       "    <tr style=\"text-align: right;\">\n",
       "      <th></th>\n",
       "      <th>id</th>\n",
       "      <th>f0</th>\n",
       "      <th>f1</th>\n",
       "      <th>f2</th>\n",
       "      <th>product</th>\n",
       "    </tr>\n",
       "  </thead>\n",
       "  <tbody>\n",
       "    <tr>\n",
       "      <th>0</th>\n",
       "      <td>fwXo0</td>\n",
       "      <td>-1.146987</td>\n",
       "      <td>0.963328</td>\n",
       "      <td>-0.828965</td>\n",
       "      <td>27.758673</td>\n",
       "    </tr>\n",
       "    <tr>\n",
       "      <th>1</th>\n",
       "      <td>WJtFt</td>\n",
       "      <td>0.262778</td>\n",
       "      <td>0.269839</td>\n",
       "      <td>-2.530187</td>\n",
       "      <td>56.069697</td>\n",
       "    </tr>\n",
       "    <tr>\n",
       "      <th>2</th>\n",
       "      <td>ovLUW</td>\n",
       "      <td>0.194587</td>\n",
       "      <td>0.289035</td>\n",
       "      <td>-5.586433</td>\n",
       "      <td>62.871910</td>\n",
       "    </tr>\n",
       "    <tr>\n",
       "      <th>3</th>\n",
       "      <td>q6cA6</td>\n",
       "      <td>2.236060</td>\n",
       "      <td>-0.553760</td>\n",
       "      <td>0.930038</td>\n",
       "      <td>114.572842</td>\n",
       "    </tr>\n",
       "    <tr>\n",
       "      <th>4</th>\n",
       "      <td>WPMUX</td>\n",
       "      <td>-0.515993</td>\n",
       "      <td>1.716266</td>\n",
       "      <td>5.899011</td>\n",
       "      <td>149.600746</td>\n",
       "    </tr>\n",
       "  </tbody>\n",
       "</table>\n",
       "</div>"
      ],
      "text/plain": [
       "      id        f0        f1        f2     product\n",
       "0  fwXo0 -1.146987  0.963328 -0.828965   27.758673\n",
       "1  WJtFt  0.262778  0.269839 -2.530187   56.069697\n",
       "2  ovLUW  0.194587  0.289035 -5.586433   62.871910\n",
       "3  q6cA6  2.236060 -0.553760  0.930038  114.572842\n",
       "4  WPMUX -0.515993  1.716266  5.899011  149.600746"
      ]
     },
     "execution_count": 5,
     "metadata": {},
     "output_type": "execute_result"
    }
   ],
   "source": [
    "df3.head()"
   ]
  },
  {
   "cell_type": "code",
   "execution_count": 6,
   "metadata": {},
   "outputs": [
    {
     "name": "stdout",
     "output_type": "stream",
     "text": [
      "Размерность (100000, 5) (100000, 5) (100000, 5)\n",
      "Пропуски:\n",
      " id         0\n",
      "f0         0\n",
      "f1         0\n",
      "f2         0\n",
      "product    0\n",
      "dtype: int64 id         0\n",
      "f0         0\n",
      "f1         0\n",
      "f2         0\n",
      "product    0\n",
      "dtype: int64 id         0\n",
      "f0         0\n",
      "f1         0\n",
      "f2         0\n",
      "product    0\n",
      "dtype: int64\n",
      "Средние объемы запасов 92 68 95\n",
      "Дубликаты: 0 0 0\n"
     ]
    }
   ],
   "source": [
    "print ('Размерность',df1.shape,df2.shape,df3.shape)\n",
    "print ('Пропуски:\\n',df1.isna().sum(),df2.isna().sum(),df3.isna().sum())\n",
    "print ('Средние объемы запасов',df1['product'].mean().astype('int'),df2['product'].mean().astype('int'),df3['product'].mean().astype('int'))\n",
    "print ('Дубликаты:',df1.duplicated().sum(),df2.duplicated().sum(),df3.duplicated().sum(),)"
   ]
  },
  {
   "cell_type": "code",
   "execution_count": 7,
   "metadata": {},
   "outputs": [
    {
     "data": {
      "text/html": [
       "<div>\n",
       "<style scoped>\n",
       "    .dataframe tbody tr th:only-of-type {\n",
       "        vertical-align: middle;\n",
       "    }\n",
       "\n",
       "    .dataframe tbody tr th {\n",
       "        vertical-align: top;\n",
       "    }\n",
       "\n",
       "    .dataframe thead th {\n",
       "        text-align: right;\n",
       "    }\n",
       "</style>\n",
       "<table border=\"1\" class=\"dataframe\">\n",
       "  <thead>\n",
       "    <tr style=\"text-align: right;\">\n",
       "      <th></th>\n",
       "      <th>prod1</th>\n",
       "      <th>prod2</th>\n",
       "      <th>prod3</th>\n",
       "    </tr>\n",
       "  </thead>\n",
       "  <tbody>\n",
       "    <tr>\n",
       "      <th>0</th>\n",
       "      <td>105.280062</td>\n",
       "      <td>3.179103</td>\n",
       "      <td>27.758673</td>\n",
       "    </tr>\n",
       "    <tr>\n",
       "      <th>1</th>\n",
       "      <td>73.037750</td>\n",
       "      <td>26.953261</td>\n",
       "      <td>56.069697</td>\n",
       "    </tr>\n",
       "    <tr>\n",
       "      <th>2</th>\n",
       "      <td>85.265647</td>\n",
       "      <td>134.766305</td>\n",
       "      <td>62.871910</td>\n",
       "    </tr>\n",
       "    <tr>\n",
       "      <th>3</th>\n",
       "      <td>168.620776</td>\n",
       "      <td>137.945408</td>\n",
       "      <td>114.572842</td>\n",
       "    </tr>\n",
       "    <tr>\n",
       "      <th>4</th>\n",
       "      <td>154.036647</td>\n",
       "      <td>134.766305</td>\n",
       "      <td>149.600746</td>\n",
       "    </tr>\n",
       "    <tr>\n",
       "      <th>...</th>\n",
       "      <td>...</td>\n",
       "      <td>...</td>\n",
       "      <td>...</td>\n",
       "    </tr>\n",
       "    <tr>\n",
       "      <th>99995</th>\n",
       "      <td>110.744026</td>\n",
       "      <td>53.906522</td>\n",
       "      <td>172.327046</td>\n",
       "    </tr>\n",
       "    <tr>\n",
       "      <th>99996</th>\n",
       "      <td>122.346843</td>\n",
       "      <td>137.945408</td>\n",
       "      <td>138.748846</td>\n",
       "    </tr>\n",
       "    <tr>\n",
       "      <th>99997</th>\n",
       "      <td>64.375443</td>\n",
       "      <td>137.945408</td>\n",
       "      <td>157.080080</td>\n",
       "    </tr>\n",
       "    <tr>\n",
       "      <th>99998</th>\n",
       "      <td>74.040764</td>\n",
       "      <td>30.132364</td>\n",
       "      <td>51.795253</td>\n",
       "    </tr>\n",
       "    <tr>\n",
       "      <th>99999</th>\n",
       "      <td>149.633246</td>\n",
       "      <td>3.179103</td>\n",
       "      <td>102.775767</td>\n",
       "    </tr>\n",
       "  </tbody>\n",
       "</table>\n",
       "<p>100000 rows × 3 columns</p>\n",
       "</div>"
      ],
      "text/plain": [
       "            prod1       prod2       prod3\n",
       "0      105.280062    3.179103   27.758673\n",
       "1       73.037750   26.953261   56.069697\n",
       "2       85.265647  134.766305   62.871910\n",
       "3      168.620776  137.945408  114.572842\n",
       "4      154.036647  134.766305  149.600746\n",
       "...           ...         ...         ...\n",
       "99995  110.744026   53.906522  172.327046\n",
       "99996  122.346843  137.945408  138.748846\n",
       "99997   64.375443  137.945408  157.080080\n",
       "99998   74.040764   30.132364   51.795253\n",
       "99999  149.633246    3.179103  102.775767\n",
       "\n",
       "[100000 rows x 3 columns]"
      ]
     },
     "execution_count": 7,
     "metadata": {},
     "output_type": "execute_result"
    }
   ],
   "source": [
    "df_prod = pd.DataFrame()\n",
    "df_prod['prod1']=df1['product']\n",
    "df_prod['prod2']= df2['product']\n",
    "df_prod['prod3']= df3['product']\n",
    "df_prod"
   ]
  },
  {
   "cell_type": "code",
   "execution_count": 8,
   "metadata": {},
   "outputs": [
    {
     "name": "stdout",
     "output_type": "stream",
     "text": [
      "Объемы запасов нефти по регионам, в млн. баррелей [9250, 6882, 9500]\n"
     ]
    }
   ],
   "source": [
    "value_prod = []\n",
    "value_prod.append((df1['product'].sum()/1000).astype('int'))\n",
    "value_prod.append((df2['product'].sum()/1000).astype('int'))\n",
    "value_prod.append((df3['product'].sum()/1000).astype('int'))\n",
    "print ('Объемы запасов нефти по регионам, в млн. баррелей', value_prod)\n"
   ]
  },
  {
   "cell_type": "code",
   "execution_count": 9,
   "metadata": {},
   "outputs": [],
   "source": [
    "def values(prod):\n",
    "    count = prod/100*3\n",
    "    return \"{:.0f}%\\n({:.0f} шт.)\".format(prod, count)"
   ]
  },
  {
   "cell_type": "code",
   "execution_count": 10,
   "metadata": {},
   "outputs": [
    {
     "data": {
      "image/png": "[encoded data removed]",
      "text/plain": [
       "<Figure size 432x288 with 1 Axes>"
      ]
     },
     "metadata": {},
     "output_type": "display_data"
    }
   ],
   "source": [
    "labels = ['Регион 1', 'Регион 2','Регион 3']\n",
    "fig, ax = plt.subplots()\n",
    "ax.pie(value_prod, labels=labels, explode=(0.03, 0.03, 0.03),shadow=True,autopct='%.1f%%');"
   ]
  },
  {
   "cell_type": "markdown",
   "metadata": {},
   "source": [
    "**Выводы по загруженным данным**"
   ]
  },
  {
   "cell_type": "markdown",
   "metadata": {},
   "source": [
    "1. Размерности датафреймов совпадают\n",
    "2. В загруженных данных отсутвуют пропуски\n",
    "3. Отсутствуют дубликаты\n",
    "4. Наблюдается существенная разница (~30%) в запасах нефти для Региона №2 и Регионов №1,№3. "
   ]
  },
  {
   "cell_type": "markdown",
   "metadata": {},
   "source": [
    "## Обучение и проверка модели"
   ]
  },
  {
   "cell_type": "code",
   "execution_count": 11,
   "metadata": {},
   "outputs": [],
   "source": [
    "# разобьем ДФ на features и target\n",
    "def f_t(df):\n",
    "    features = df.drop(['product', 'id'], axis=1)\n",
    "    target = df['product']\n",
    "    return features, target"
   ]
  },
  {
   "cell_type": "code",
   "execution_count": 12,
   "metadata": {},
   "outputs": [],
   "source": [
    "features1, target1 = f_t(df1)\n",
    "features2, target2 = f_t(df2)\n",
    "features3, target3 = f_t(df3)"
   ]
  },
  {
   "cell_type": "code",
   "execution_count": 13,
   "metadata": {},
   "outputs": [],
   "source": [
    "def learning_model(features, target, region):\n",
    "    features_train, features_valid, target_train, target_valid = train_test_split(\n",
    "    features, target, test_size=0.25, random_state=12345)\n",
    "    model = LinearRegression()\n",
    "    model.fit(features_train, target_train)\n",
    "    predictions = model.predict(features_valid)\n",
    "    rmse = np.sqrt(mean_squared_error(target_valid, predictions))     \n",
    "    print('\\n',region)\n",
    "    print('Средний запас предсказанного сырья,тыс. баррелей: ', np.mean(predictions))\n",
    "    print('Медианный запас предсказанного сырья, тыс. баррелей: ', np.median(predictions))\n",
    "    print('RMSE модели: ', rmse)\n",
    "    return features_train, features_valid, target_train, target_valid, predictions;"
   ]
  },
  {
   "cell_type": "code",
   "execution_count": 14,
   "metadata": {},
   "outputs": [
    {
     "name": "stdout",
     "output_type": "stream",
     "text": [
      "\n",
      " Регион № 1\n",
      "Средний запас предсказанного сырья,тыс. баррелей:  92.59256778438035\n",
      "Медианный запас предсказанного сырья, тыс. баррелей:  92.66188351790805\n",
      "RMSE модели:  37.5794217150813\n",
      "\n",
      " Регион № 2\n",
      "Средний запас предсказанного сырья,тыс. баррелей:  68.728546895446\n",
      "Медианный запас предсказанного сырья, тыс. баррелей:  57.851585882427\n",
      "RMSE модели:  0.893099286775617\n",
      "\n",
      " Регион № 3\n",
      "Средний запас предсказанного сырья,тыс. баррелей:  94.96504596800489\n",
      "Медианный запас предсказанного сырья, тыс. баррелей:  95.03120442123549\n",
      "RMSE модели:  40.02970873393434\n"
     ]
    }
   ],
   "source": [
    "features_train1, features_valid1, target_train1, target_valid1, predictions1 = learning_model(features1, target1, 'Регион № 1')\n",
    "features_train2, features_valid2, target_train2, target_valid2, predictions2 = learning_model(features2, target2, 'Регион № 2')\n",
    "features_train3, features_valid3, target_train3, target_valid3, predictions3 = learning_model(features3, target3, 'Регион № 3')"
   ]
  },
  {
   "cell_type": "markdown",
   "metadata": {},
   "source": [
    "**Предварительный анализ полученных данных:**\n",
    "1. Для Региона №2 наблюдаем разброс между медианным и средним значением запасов сырья, это свидетельствует о значительно неравномерном распределении нефти от скважины к скважине, причем разброс похоже по принципу \"здесь густо, там пусто\".\n",
    "2. Регион №2 обладает наименьшими запасами нефти среди 3 Регионов.\n",
    "3. Модель очень точно сделала предсказание запасов нефти для Региона №2. Модель одна для всех регионов, а разброс rmse отличается почти на 2 порядка для Региона №2! Это конечно хорошо, что такая точность, но почему по 1и 3 региону такая разница?! Посмотри на признаки под \"углом корреляии\":"
   ]
  },
  {
   "cell_type": "code",
   "execution_count": 15,
   "metadata": {
    "scrolled": true
   },
   "outputs": [
    {
     "data": {
      "image/png": "[encoded data removed]",
      "text/plain": [
       "<Figure size 432x288 with 2 Axes>"
      ]
     },
     "metadata": {
      "needs_background": "light"
     },
     "output_type": "display_data"
    }
   ],
   "source": [
    "heatmap = sns.heatmap(df1.corr(), cbar=True, annot=True,cmap='BrBG');\n",
    "heatmap.set_title('Тепловая карта корреляции по Региону №1', fontdict={'fontsize':18}, pad=12);\n",
    "plt.xticks(rotation=45, ha='right');"
   ]
  },
  {
   "cell_type": "code",
   "execution_count": 16,
   "metadata": {},
   "outputs": [
    {
     "data": {
      "image/png": "[encoded data removed]",
      "text/plain": [
       "<Figure size 432x288 with 2 Axes>"
      ]
     },
     "metadata": {
      "needs_background": "light"
     },
     "output_type": "display_data"
    }
   ],
   "source": [
    "heatmap = sns.heatmap(df2.corr(), cbar=True, annot=True,cmap='BrBG');\n",
    "heatmap.set_title('Тепловая карта корреляции по Региону №2', fontdict={'fontsize':18}, pad=12);\n",
    "plt.xticks(rotation=45, ha='right');"
   ]
  },
  {
   "cell_type": "markdown",
   "metadata": {},
   "source": [
    "А вот и причина!!!\n",
    "(df3 можно и не смотреть... )  \n",
    "Видим для Региона №2  просто \"поразительую\" корреляцию между целевыми признаками product-f2, корреляция равна **Единице!** \n",
    "Могу предположить, что 2-м регионе залежи нефти имеют отличные параметры от залежей в регионе 1 и 3, это может быть глубина залегания, св-во пластов земли (пористость), давление,температура и т.п., и именно для подобной \"конфигурации\" залегания нефти, параметр f2 дает столь точные  данные. Исключить данный параметр (f2) мы не можем (по принципу это слишком \"очевидный\" параметр), т.к. эти все 3 признака - значимы."
   ]
  },
  {
   "cell_type": "markdown",
   "metadata": {},
   "source": [
    "**Резюмируя** можно сказать, что \"мал клоп да...\" , Регион №2  имеет средние запасы прмиерно на 30% меньше по сравнению с запасами в Регионе 1 или  Регионе 3, но эти прогнозируемые запасы, прогнозируются достаточно точно, чего не сказать о Регионе 1 и 3.  \n",
    "В общем, регион 2 меня заинтересовал тем, что с вероятноть практически 100%, можно определить объемы залежи нефти в скважине. Посмотрим дальше, что покажет расчет прибыли, рисков... "
   ]
  },
  {
   "cell_type": "markdown",
   "metadata": {},
   "source": [
    "## Подготовка к расчёту прибыли"
   ]
  },
  {
   "cell_type": "code",
   "execution_count": 17,
   "metadata": {
    "scrolled": true
   },
   "outputs": [
    {
     "name": "stdout",
     "output_type": "stream",
     "text": [
      "Любая из 200 cкважин должна приносить не менее 50000 тыс.руб. прибыли\n",
      "Объём сырья достаточный для безубыточной разработки новой скважины 111 тыс.баррелей\n",
      "Средние запасы в регионах, тыс. баррелей на скважину:\n",
      "Регион №1 - 93 Регион №2 - 69 Регион №3 - 95\n"
     ]
    }
   ],
   "source": [
    "#Оцифруем условия задачи в константы\n",
    "\n",
    "total = 10_000_000 # бюджет на регион, тыс.руб.\n",
    "price = 450 # прибыль, тыс. руб от одной тысячи барелей\n",
    "research_well = 500 # скважины для исследования\n",
    "best_well = 200 # лучшие скважины для разработки (из 500)\n",
    "confidence_interval = 0.95 # доверительный интервал\n",
    "loss = 0.025 # максимальная вероятность убытков- 2.5%\n",
    "\n",
    "break_even = total / best_well # минимальная прибыль с лучшей скважины, тыс.руб.\n",
    "\n",
    "value_even = round(break_even/price) # минимальный объем безубыточности скважины в тыс. баррелях \n",
    "\n",
    "print(f'Любая из {best_well} cкважин должна приносить не менее {round(break_even)} тыс.руб. прибыли')\n",
    "print( f'Объём сырья достаточный для безубыточной разработки новой скважины {value_even} тыс.баррелей') \n",
    "print('Средние запасы в регионах, тыс. баррелей на скважину:')\n",
    "print('Регион №1 -',round(np.mean(predictions1)),'Регион №2 -',round(np.mean(predictions2)),'Регион №3 -',round(np.mean(predictions3)))"
   ]
  },
  {
   "cell_type": "markdown",
   "metadata": {},
   "source": [
    "Расчеты неутешительные, ни одна \"средняя\" скважина ни в одном из 3-х регионов не дотягивает, до минимального \"объема безубыточности\", но нам ведь средняя и не нужна! Нам нужны всего 200, хороших скважин. Посмотрим на объемы нефти в скважинах немного по другому: "
   ]
  },
  {
   "cell_type": "code",
   "execution_count": 18,
   "metadata": {},
   "outputs": [],
   "source": [
    "def countwells (pred,region):\n",
    "    count = 0\n",
    "    count = sum(map(lambda x: x >value_even, pred))\n",
    "    print(f'Число скважин в {region} удовлетворяющих объему безубыточности - {count} шт. или в {100*count/len(pred)}%')"
   ]
  },
  {
   "cell_type": "code",
   "execution_count": 19,
   "metadata": {
    "scrolled": true
   },
   "outputs": [
    {
     "name": "stdout",
     "output_type": "stream",
     "text": [
      "Число скважин в Регион №1 удовлетворяющих объему безубыточности - 5442 шт. или в 21.768%\n"
     ]
    }
   ],
   "source": [
    "countwells(predictions1, 'Регион №1')"
   ]
  },
  {
   "cell_type": "code",
   "execution_count": 20,
   "metadata": {},
   "outputs": [
    {
     "name": "stdout",
     "output_type": "stream",
     "text": [
      "Число скважин в Регион №2 удовлетворяющих объему безубыточности - 4690 шт. или в 18.76%\n"
     ]
    }
   ],
   "source": [
    "countwells(predictions2, 'Регион №2')"
   ]
  },
  {
   "cell_type": "code",
   "execution_count": 21,
   "metadata": {},
   "outputs": [
    {
     "name": "stdout",
     "output_type": "stream",
     "text": [
      "Число скважин в Регион №3 удовлетворяющих объему безубыточности - 5266 шт. или в 21.064%\n"
     ]
    }
   ],
   "source": [
    "countwells(predictions3, 'Регион №3')"
   ]
  },
  {
   "cell_type": "markdown",
   "metadata": {},
   "source": [
    "Видим любопытную картину: Регион 1 и 3 имеют запасов нефти примерно на 30% больше чем Регион 2, между тем число скважин имеющих минимальные запасы для безубыточной добычи у всех трех Регионов примерно одинаковое 19-21%, это говорит о том, что Регион 1 и Регион 3 изобилуют скважинами с небольшими запасами сырья, за счет которых эти Регионы в целом и показывают общие хорошие запасы нефти."
   ]
  },
  {
   "cell_type": "markdown",
   "metadata": {},
   "source": [
    "Немного визуализации..."
   ]
  },
  {
   "cell_type": "code",
   "execution_count": 22,
   "metadata": {
    "scrolled": false
   },
   "outputs": [
    {
     "data": {
      "image/png": "[encoded data removed]",
      "text/plain": [
       "<Figure size 720x504 with 1 Axes>"
      ]
     },
     "metadata": {
      "needs_background": "light"
     },
     "output_type": "display_data"
    }
   ],
   "source": [
    "ax = df_prod.plot(y = 'prod1', kind = 'hist', bins = 20, grid=True, figsize = (10,7), color = '#4682B4')\n",
    "df_prod.plot(y = 'prod2', kind = 'hist', bins = 20, grid=True, figsize = (10,7),ax=ax, alpha = 0.7, color = '#DAA520')\n",
    "df_prod.plot(y = 'prod3', kind = 'hist', bins = 20, grid=True, figsize = (10,7),ax=ax, alpha = 0.5,color = '#40E0D0')\n",
    "plt.title('Гистограмма распределения запасов нефти в скважинах (по Регионам)')\n",
    "plt.xlabel('Запасы нефти в скважине, в тыс. баррелях ')\n",
    "plt.ylabel('Кол-во скважин с подобными запасами')\n",
    "plt.legend(['Регион №1','Регион №2','Регион №3'], fontsize=12, loc='upper left');\n",
    "plt.show()"
   ]
  },
  {
   "cell_type": "markdown",
   "metadata": {},
   "source": [
    "**Резюмируя**  \n",
    "\n",
    "Регион №2 выгодно отличается от двух других по запасам нефти на скважину, в Регионе №2 нефти в скважине либо нет, либо есть.. :)(полагаю, именно из за этого выброса в районе 0-5 тыс. баррелей для Региона №2 мы и видим разницу между медианным и средним значением).  \n",
    "А если серьезно, то по 2-му Регионы, мы действительно наблюдаем для существенного кол-ва скважин запас нефти более 125 тыс. баррелей на скважину, это на 10% больше минимального безубыточного объема добычи в 111 тыс. барелей.  \n",
    "С другой стороны, в Регионе №2 совсем нет скважин с запасом свыше 138 тыс. баррелей, тогда как в Других Регинов они присутствуют."
   ]
  },
  {
   "cell_type": "markdown",
   "metadata": {},
   "source": [
    "## Расчёт прибыли и рисков "
   ]
  },
  {
   "cell_type": "code",
   "execution_count": 23,
   "metadata": {},
   "outputs": [],
   "source": [
    "# Расчитаем прибыль на основе предсказанных значениях\n",
    "def best_profit(predict,target, region):\n",
    "    df = target.to_frame()\n",
    "    df['predict'] = predict\n",
    "    best_wells_target = df.sort_values(by=['product'], ascending = False).head(200)\n",
    "    best_wells_predict = df.sort_values(by=['predict'], ascending = False).head(200)\n",
    "    value_product_target = round(best_wells_target['product'].sum()) # объём сырья в 200-та лучших скважин (реальных)\n",
    "    value_product_predict = round(best_wells_predict['predict'].sum()) # объём сырья в 200-та лучших скважин (предсказанных)\n",
    "    result_profit_target = round(best_wells_target['product'].sum() * price - total) # прибыль с этих скважин\n",
    "    result_profit_predict = round(best_wells_predict['predict'].sum() * price - total) # прибыль с этих скважин\n",
    "    \n",
    "    print(f'\\n{region}.\\nОбъём сырья в {best_well} скважинах:\\n -на основе предсказания модели = {value_product_predict} тыс.баррелей\\n -на основе реальных данных = {value_product_target} тыс.баррелей.')\n",
    "    \n",
    "    print(f'\\nПрибыль c {best_well} скважин:\\n -на основе предсказания модели = {result_profit_predict}тыс.руб.\\n -на основе реальных данных = {result_profit_target}тыс.руб.')\n",
    "    return df\n"
   ]
  },
  {
   "cell_type": "code",
   "execution_count": 24,
   "metadata": {},
   "outputs": [
    {
     "name": "stdout",
     "output_type": "stream",
     "text": [
      "\n",
      "Регион №1.\n",
      "Объём сырья в 200 скважинах:\n",
      " -на основе предсказания модели = 31102 тыс.баррелей\n",
      " -на основе реальных данных = 36691 тыс.баррелей.\n",
      "\n",
      "Прибыль c 200 скважин:\n",
      " -на основе предсказания модели = 3996049тыс.руб.\n",
      " -на основе реальных данных = 6510948тыс.руб.\n"
     ]
    }
   ],
   "source": [
    "best200_reg1 = best_profit(predictions1,target_valid1, 'Регион №1')"
   ]
  },
  {
   "cell_type": "code",
   "execution_count": 25,
   "metadata": {},
   "outputs": [
    {
     "name": "stdout",
     "output_type": "stream",
     "text": [
      "\n",
      "Регион №2.\n",
      "Объём сырья в 200 скважинах:\n",
      " -на основе предсказания модели = 27746 тыс.баррелей\n",
      " -на основе реальных данных = 27589 тыс.баррелей.\n",
      "\n",
      "Прибыль c 200 скважин:\n",
      " -на основе предсказания модели = 2485712тыс.руб.\n",
      " -на основе реальных данных = 2415087тыс.руб.\n"
     ]
    }
   ],
   "source": [
    "best200_reg2 = best_profit(predictions2,target_valid2, 'Регион №2')"
   ]
  },
  {
   "cell_type": "code",
   "execution_count": 26,
   "metadata": {},
   "outputs": [
    {
     "name": "stdout",
     "output_type": "stream",
     "text": [
      "\n",
      "Регион №3.\n",
      "Объём сырья в 200 скважинах:\n",
      " -на основе предсказания модели = 29604 тыс.баррелей\n",
      " -на основе реальных данных = 37650 тыс.баррелей.\n",
      "\n",
      "Прибыль c 200 скважин:\n",
      " -на основе предсказания модели = 3321754тыс.руб.\n",
      " -на основе реальных данных = 6942663тыс.руб.\n"
     ]
    }
   ],
   "source": [
    "best200_reg3 = best_profit(predictions3,target_valid3, 'Регион №3')"
   ]
  },
  {
   "cell_type": "markdown",
   "metadata": {},
   "source": [
    "Здесь все ожидаемо, по Региону №2 самые точные прогнозы (помним о \"волшебном\" признаке f2 по Региону №2).  \n",
    "\n",
    "Интереснее будет, что покажет Бутстреп для полученной нами модели. Данной процедурой оценим доверительные интервалы для каждого региона, с лучшими скважинами.  \n",
    "\n",
    "Вкратце, что сделаем: из каждого Региона со сформированным целевым признаком полученным/прогнозируеммым на основе алгоритма Линейной  регресиии, \"нарежем\" 1000 выборок по 500 элементов(они же скважины). Из эти 500 скважин, выберем лучшие 200 скважин.  \n",
    "Далее посчитаем среднюю прибыль с этих лучших скважин, если она превышает точку безубыточности, то плюсик в карму, если нет, то считаем риски уйти в минуса. Риск конечно дело благородное, но наш предел это 2.5%.\n",
    "Так же найдем доверительный интервал в размере 95% для средней прибыли, т.е. найдем значения которые примет прибыль с вероятностью 95%. "
   ]
  },
  {
   "cell_type": "code",
   "execution_count": 27,
   "metadata": {},
   "outputs": [],
   "source": [
    "def region(best200, region):\n",
    "    state = np.random.RandomState(12345)\n",
    "    values = []\n",
    "    error = 0\n",
    "    for i in range(1000):\n",
    "        subsample = best200.sample(n = research_well, replace = True, random_state = state)\n",
    "        subsample = subsample.sort_values(by=['predict'], ascending = False).head(best_well)\n",
    "        mean = round(subsample['product'].sum() * price - total)\n",
    "\n",
    "#        if(mean < 0):\n",
    "#            error += 1\n",
    "        values.append(mean)\n",
    "        \n",
    "    values = pd.Series(values)\n",
    "    lower = round(values.quantile(loss))\n",
    "    upper = round(values.quantile(confidence_interval + loss))\n",
    "   \n",
    "    print(f'Средняя прибыль: {round(values.mean())}')\n",
    "    print(f'95%-ый доверительный интервал: от {lower} до {upper}')\n",
    "#    print('Риск убытков {:.1%}'.format(error / 1000),f'(максимально возможный убыток {round(values.min())} тыс.руб.)')\n",
    "    print('Риск убытков(2) {:.1%}'.format((values < 0).mean()))"
   ]
  },
  {
   "cell_type": "code",
   "execution_count": 28,
   "metadata": {},
   "outputs": [
    {
     "name": "stdout",
     "output_type": "stream",
     "text": [
      "Средняя прибыль: 396165\n",
      "95%-ый доверительный интервал: от -111215 до 909767\n",
      "Риск убытков(2) 6.9%\n"
     ]
    }
   ],
   "source": [
    "region(best200_reg1, 'Регион №1')"
   ]
  },
  {
   "cell_type": "code",
   "execution_count": 29,
   "metadata": {},
   "outputs": [
    {
     "name": "stdout",
     "output_type": "stream",
     "text": [
      "Средняя прибыль: 456045\n",
      "95%-ый доверительный интервал: от 33820 до 852290\n",
      "Риск убытков(2) 1.5%\n"
     ]
    }
   ],
   "source": [
    "region(best200_reg2, 'Регион №2')"
   ]
  },
  {
   "cell_type": "code",
   "execution_count": 30,
   "metadata": {},
   "outputs": [
    {
     "name": "stdout",
     "output_type": "stream",
     "text": [
      "Средняя прибыль: 404404\n",
      "95%-ый доверительный интервал: от -163350 до 950359\n",
      "Риск убытков(2) 7.6%\n"
     ]
    }
   ],
   "source": [
    "region(best200_reg3, 'Регион №3')"
   ]
  },
  {
   "cell_type": "markdown",
   "metadata": {},
   "source": [
    "# Выводы кас-но прибыли и рисков, выбора Региона добычи нефти"
   ]
  },
  {
   "cell_type": "markdown",
   "metadata": {},
   "source": [
    "**Несмотря на меньшие запасы нефти в Регионе №2 по сравнению с Регионом 1 и 3, данный регион (Регион №2) является единственным где можно с большой долей вероятности - 98,5%  вести безубыточную разработку и добычу нефти. Помимо самой высокой средней прибыли от добычи нефти среди 3-х регионов (456045тыс.руб.), данный регион несет и минимальные риски возникновения убытка - 1,5% (при допустимом риске 2.5%).**    \n",
    "Регион для разработки и добычи нефти, это Регион № 2.\n"
   ]
  }
 ],
 "metadata": {
  "ExecuteTimeLog": [
   {
    "duration": 1154,
    "start_time": "2022-03-10T12:20:42.676Z"
   },
   {
    "duration": 31,
    "start_time": "2022-03-10T12:20:43.832Z"
   },
   {
    "duration": 340,
    "start_time": "2022-03-10T12:20:45.703Z"
   },
   {
    "duration": 11,
    "start_time": "2022-03-10T12:20:46.665Z"
   },
   {
    "duration": 10,
    "start_time": "2022-03-10T12:20:48.001Z"
   },
   {
    "duration": 8,
    "start_time": "2022-03-10T12:20:50.768Z"
   },
   {
    "duration": 435,
    "start_time": "2022-03-10T12:22:03.622Z"
   },
   {
    "duration": 301,
    "start_time": "2022-03-10T12:22:07.613Z"
   },
   {
    "duration": 4,
    "start_time": "2022-03-10T12:22:12.096Z"
   },
   {
    "duration": 3,
    "start_time": "2022-03-10T12:22:42.071Z"
   },
   {
    "duration": 12,
    "start_time": "2022-03-10T12:23:15.495Z"
   },
   {
    "duration": 310,
    "start_time": "2022-03-10T12:23:24.930Z"
   },
   {
    "duration": 324,
    "start_time": "2022-03-10T12:23:34.017Z"
   },
   {
    "duration": 9,
    "start_time": "2022-03-10T12:24:37.641Z"
   },
   {
    "duration": 18,
    "start_time": "2022-03-10T12:24:58.574Z"
   },
   {
    "duration": 20,
    "start_time": "2022-03-10T12:28:44.858Z"
   },
   {
    "duration": 19,
    "start_time": "2022-03-10T12:28:58.275Z"
   },
   {
    "duration": 23,
    "start_time": "2022-03-10T12:29:15.071Z"
   },
   {
    "duration": 3,
    "start_time": "2022-03-10T13:03:54.267Z"
   },
   {
    "duration": 5,
    "start_time": "2022-03-10T13:04:01.949Z"
   },
   {
    "duration": 6,
    "start_time": "2022-03-10T13:04:22.758Z"
   },
   {
    "duration": 5,
    "start_time": "2022-03-10T13:04:36.350Z"
   },
   {
    "duration": 5,
    "start_time": "2022-03-10T13:04:56.843Z"
   },
   {
    "duration": 6,
    "start_time": "2022-03-10T13:05:22.022Z"
   },
   {
    "duration": 5,
    "start_time": "2022-03-10T13:05:24.195Z"
   },
   {
    "duration": 317,
    "start_time": "2022-03-10T13:06:11.924Z"
   },
   {
    "duration": 25,
    "start_time": "2022-03-10T13:07:01.202Z"
   },
   {
    "duration": 8,
    "start_time": "2022-03-10T13:07:15.728Z"
   },
   {
    "duration": 337,
    "start_time": "2022-03-10T13:07:54.547Z"
   },
   {
    "duration": 301,
    "start_time": "2022-03-10T13:08:39.206Z"
   },
   {
    "duration": 18,
    "start_time": "2022-03-10T13:08:49.184Z"
   },
   {
    "duration": 16,
    "start_time": "2022-03-10T13:08:55.232Z"
   },
   {
    "duration": 30,
    "start_time": "2022-03-10T13:09:09.315Z"
   },
   {
    "duration": 13,
    "start_time": "2022-03-10T13:09:10.826Z"
   },
   {
    "duration": 1144,
    "start_time": "2022-03-10T13:09:22.306Z"
   },
   {
    "duration": 31,
    "start_time": "2022-03-10T13:09:23.452Z"
   },
   {
    "duration": 373,
    "start_time": "2022-03-10T13:09:23.485Z"
   },
   {
    "duration": 12,
    "start_time": "2022-03-10T13:09:23.860Z"
   },
   {
    "duration": 13,
    "start_time": "2022-03-10T13:09:23.874Z"
   },
   {
    "duration": 18,
    "start_time": "2022-03-10T13:09:23.889Z"
   },
   {
    "duration": 28,
    "start_time": "2022-03-10T13:09:23.909Z"
   },
   {
    "duration": 18,
    "start_time": "2022-03-10T13:09:23.938Z"
   },
   {
    "duration": 5,
    "start_time": "2022-03-10T13:09:23.958Z"
   },
   {
    "duration": 45,
    "start_time": "2022-03-10T13:09:23.965Z"
   },
   {
    "duration": 415,
    "start_time": "2022-03-10T13:10:46.073Z"
   },
   {
    "duration": 7760,
    "start_time": "2022-03-10T13:25:27.997Z"
   },
   {
    "duration": 7582,
    "start_time": "2022-03-10T13:25:42.951Z"
   },
   {
    "duration": 5,
    "start_time": "2022-03-10T13:29:38.322Z"
   },
   {
    "duration": 5,
    "start_time": "2022-03-10T13:29:45.890Z"
   },
   {
    "duration": 4,
    "start_time": "2022-03-10T13:29:57.339Z"
   },
   {
    "duration": 8,
    "start_time": "2022-03-10T13:30:08.714Z"
   },
   {
    "duration": 9,
    "start_time": "2022-03-10T13:30:15.753Z"
   },
   {
    "duration": 12,
    "start_time": "2022-03-10T13:30:44.504Z"
   },
   {
    "duration": 15,
    "start_time": "2022-03-10T13:32:05.548Z"
   },
   {
    "duration": 474,
    "start_time": "2022-03-10T13:32:58.846Z"
   },
   {
    "duration": 64,
    "start_time": "2022-03-10T13:33:07.296Z"
   },
   {
    "duration": 60,
    "start_time": "2022-03-10T13:33:11.650Z"
   },
   {
    "duration": 61,
    "start_time": "2022-03-10T13:33:22.861Z"
   },
   {
    "duration": 421,
    "start_time": "2022-03-10T13:33:57.670Z"
   },
   {
    "duration": 511,
    "start_time": "2022-03-10T13:34:04.452Z"
   },
   {
    "duration": 139,
    "start_time": "2022-03-10T13:34:19.250Z"
   },
   {
    "duration": 65,
    "start_time": "2022-03-10T13:34:58.233Z"
   },
   {
    "duration": 69,
    "start_time": "2022-03-10T13:35:04.533Z"
   },
   {
    "duration": 67,
    "start_time": "2022-03-10T13:35:12.203Z"
   },
   {
    "duration": 795,
    "start_time": "2022-03-10T13:35:21.315Z"
   },
   {
    "duration": 65,
    "start_time": "2022-03-10T13:35:25.894Z"
   },
   {
    "duration": 63,
    "start_time": "2022-03-10T13:35:33.627Z"
   },
   {
    "duration": 74,
    "start_time": "2022-03-10T13:37:28.547Z"
   },
   {
    "duration": 1180,
    "start_time": "2022-03-10T13:41:11.558Z"
   },
   {
    "duration": 33,
    "start_time": "2022-03-10T13:41:12.740Z"
   },
   {
    "duration": 388,
    "start_time": "2022-03-10T13:41:12.775Z"
   },
   {
    "duration": 16,
    "start_time": "2022-03-10T13:41:13.165Z"
   },
   {
    "duration": 8,
    "start_time": "2022-03-10T13:41:13.182Z"
   },
   {
    "duration": 20,
    "start_time": "2022-03-10T13:41:13.192Z"
   },
   {
    "duration": 25,
    "start_time": "2022-03-10T13:41:13.213Z"
   },
   {
    "duration": 16,
    "start_time": "2022-03-10T13:41:13.241Z"
   },
   {
    "duration": 6,
    "start_time": "2022-03-10T13:41:13.259Z"
   },
   {
    "duration": 44,
    "start_time": "2022-03-10T13:41:13.267Z"
   },
   {
    "duration": 14,
    "start_time": "2022-03-10T13:41:13.313Z"
   },
   {
    "duration": 110,
    "start_time": "2022-03-10T13:41:13.329Z"
   },
   {
    "duration": 10061,
    "start_time": "2022-03-10T13:41:13.441Z"
   },
   {
    "duration": 72,
    "start_time": "2022-03-10T13:41:30.222Z"
   },
   {
    "duration": 453,
    "start_time": "2022-03-10T13:43:44.480Z"
   },
   {
    "duration": 70,
    "start_time": "2022-03-10T13:43:57.663Z"
   },
   {
    "duration": 72,
    "start_time": "2022-03-10T13:44:16.703Z"
   },
   {
    "duration": 16,
    "start_time": "2022-03-10T13:44:38.666Z"
   },
   {
    "duration": 513,
    "start_time": "2022-03-10T13:49:04.208Z"
   },
   {
    "duration": 621,
    "start_time": "2022-03-10T13:55:17.819Z"
   },
   {
    "duration": 454,
    "start_time": "2022-03-10T13:55:56.075Z"
   },
   {
    "duration": 66,
    "start_time": "2022-03-10T13:56:15.044Z"
   },
   {
    "duration": 62,
    "start_time": "2022-03-10T13:56:53.464Z"
   },
   {
    "duration": 429,
    "start_time": "2022-03-10T13:57:12.282Z"
   },
   {
    "duration": 63,
    "start_time": "2022-03-10T13:57:18.313Z"
   },
   {
    "duration": 436,
    "start_time": "2022-03-10T14:00:31.837Z"
   },
   {
    "duration": 414,
    "start_time": "2022-03-10T14:00:50.662Z"
   },
   {
    "duration": 601,
    "start_time": "2022-03-10T14:00:55.899Z"
   },
   {
    "duration": 3,
    "start_time": "2022-03-10T14:01:23.486Z"
   },
   {
    "duration": 604,
    "start_time": "2022-03-10T14:01:34.953Z"
   },
   {
    "duration": 3,
    "start_time": "2022-03-10T14:02:18.174Z"
   },
   {
    "duration": 600,
    "start_time": "2022-03-10T14:02:18.671Z"
   },
   {
    "duration": 183,
    "start_time": "2022-03-10T14:39:27.224Z"
   },
   {
    "duration": 109,
    "start_time": "2022-03-10T14:39:34.116Z"
   },
   {
    "duration": 533,
    "start_time": "2022-03-10T14:39:48.621Z"
   },
   {
    "duration": 103,
    "start_time": "2022-03-10T14:39:54.778Z"
   },
   {
    "duration": 3,
    "start_time": "2022-03-10T14:41:42.962Z"
   },
   {
    "duration": 102,
    "start_time": "2022-03-10T14:41:45.961Z"
   },
   {
    "duration": 528,
    "start_time": "2022-03-10T14:41:56.982Z"
   },
   {
    "duration": 61,
    "start_time": "2022-03-10T14:45:53.065Z"
   },
   {
    "duration": 63,
    "start_time": "2022-03-10T14:48:15.547Z"
   },
   {
    "duration": 149,
    "start_time": "2022-03-10T15:19:42.024Z"
   },
   {
    "duration": 1168,
    "start_time": "2022-03-10T15:21:16.491Z"
   },
   {
    "duration": 30,
    "start_time": "2022-03-10T15:21:17.661Z"
   },
   {
    "duration": 334,
    "start_time": "2022-03-10T15:21:17.694Z"
   },
   {
    "duration": 11,
    "start_time": "2022-03-10T15:21:18.030Z"
   },
   {
    "duration": 11,
    "start_time": "2022-03-10T15:21:18.043Z"
   },
   {
    "duration": 9,
    "start_time": "2022-03-10T15:21:18.056Z"
   },
   {
    "duration": 39,
    "start_time": "2022-03-10T15:21:18.066Z"
   },
   {
    "duration": 14,
    "start_time": "2022-03-10T15:21:18.107Z"
   },
   {
    "duration": 13,
    "start_time": "2022-03-10T15:21:18.123Z"
   },
   {
    "duration": 11,
    "start_time": "2022-03-10T15:21:18.138Z"
   },
   {
    "duration": 13,
    "start_time": "2022-03-10T15:21:18.151Z"
   },
   {
    "duration": 2,
    "start_time": "2022-03-10T15:21:18.166Z"
   },
   {
    "duration": 10,
    "start_time": "2022-03-10T15:21:18.170Z"
   },
   {
    "duration": 83,
    "start_time": "2022-03-10T15:21:18.182Z"
   },
   {
    "duration": 7526,
    "start_time": "2022-03-10T15:21:18.267Z"
   },
   {
    "duration": 1505,
    "start_time": "2022-03-10T19:36:48.293Z"
   },
   {
    "duration": 48,
    "start_time": "2022-03-10T19:36:49.800Z"
   },
   {
    "duration": 464,
    "start_time": "2022-03-10T19:36:49.855Z"
   },
   {
    "duration": 17,
    "start_time": "2022-03-10T19:36:50.322Z"
   },
   {
    "duration": 16,
    "start_time": "2022-03-10T19:36:50.342Z"
   },
   {
    "duration": 13,
    "start_time": "2022-03-10T19:36:50.384Z"
   },
   {
    "duration": 43,
    "start_time": "2022-03-10T19:36:50.400Z"
   },
   {
    "duration": 45,
    "start_time": "2022-03-10T19:36:50.446Z"
   },
   {
    "duration": 7,
    "start_time": "2022-03-10T19:36:50.494Z"
   },
   {
    "duration": 17,
    "start_time": "2022-03-10T19:36:50.504Z"
   },
   {
    "duration": 23,
    "start_time": "2022-03-10T19:36:50.524Z"
   },
   {
    "duration": 33,
    "start_time": "2022-03-10T19:36:50.549Z"
   },
   {
    "duration": 5,
    "start_time": "2022-03-10T19:36:50.585Z"
   },
   {
    "duration": 144,
    "start_time": "2022-03-10T19:36:50.593Z"
   },
   {
    "duration": 14,
    "start_time": "2022-03-10T19:36:50.739Z"
   },
   {
    "duration": 14,
    "start_time": "2022-03-10T19:37:09.207Z"
   },
   {
    "duration": 8,
    "start_time": "2022-03-10T19:37:12.470Z"
   },
   {
    "duration": 9,
    "start_time": "2022-03-10T19:37:33.622Z"
   },
   {
    "duration": 9,
    "start_time": "2022-03-10T19:37:52.221Z"
   },
   {
    "duration": 8,
    "start_time": "2022-03-10T19:37:56.215Z"
   },
   {
    "duration": 9,
    "start_time": "2022-03-10T19:38:01.295Z"
   },
   {
    "duration": 7,
    "start_time": "2022-03-10T19:38:07.152Z"
   },
   {
    "duration": 310,
    "start_time": "2022-03-14T19:44:49.903Z"
   },
   {
    "duration": 4,
    "start_time": "2022-03-14T19:44:52.301Z"
   },
   {
    "duration": 293,
    "start_time": "2022-03-14T19:44:54.196Z"
   },
   {
    "duration": 1085,
    "start_time": "2022-03-14T19:45:01.820Z"
   },
   {
    "duration": 31,
    "start_time": "2022-03-14T19:45:02.907Z"
   },
   {
    "duration": 362,
    "start_time": "2022-03-14T19:45:02.940Z"
   },
   {
    "duration": 11,
    "start_time": "2022-03-14T19:45:03.303Z"
   },
   {
    "duration": 10,
    "start_time": "2022-03-14T19:45:03.316Z"
   },
   {
    "duration": 10,
    "start_time": "2022-03-14T19:45:03.328Z"
   },
   {
    "duration": 23,
    "start_time": "2022-03-14T19:45:03.340Z"
   },
   {
    "duration": 32,
    "start_time": "2022-03-14T19:45:03.365Z"
   },
   {
    "duration": 4,
    "start_time": "2022-03-14T19:45:03.399Z"
   },
   {
    "duration": 18,
    "start_time": "2022-03-14T19:45:03.404Z"
   },
   {
    "duration": 16,
    "start_time": "2022-03-14T19:45:03.424Z"
   },
   {
    "duration": 2,
    "start_time": "2022-03-14T19:45:03.442Z"
   },
   {
    "duration": 4,
    "start_time": "2022-03-14T19:45:03.446Z"
   },
   {
    "duration": 88,
    "start_time": "2022-03-14T19:45:03.452Z"
   },
   {
    "duration": 10,
    "start_time": "2022-03-14T19:45:03.542Z"
   },
   {
    "duration": 11,
    "start_time": "2022-03-14T19:45:03.554Z"
   },
   {
    "duration": 6,
    "start_time": "2022-03-14T19:45:03.581Z"
   },
   {
    "duration": 12,
    "start_time": "2022-03-14T19:45:03.589Z"
   },
   {
    "duration": 702,
    "start_time": "2022-03-14T19:45:03.602Z"
   },
   {
    "duration": 3,
    "start_time": "2022-03-14T19:46:20.410Z"
   },
   {
    "duration": 4,
    "start_time": "2022-03-14T19:46:26.017Z"
   },
   {
    "duration": 754,
    "start_time": "2022-03-14T19:46:26.593Z"
   },
   {
    "duration": 3,
    "start_time": "2022-03-14T19:47:03.520Z"
   },
   {
    "duration": 4,
    "start_time": "2022-03-14T19:47:07.759Z"
   },
   {
    "duration": 54,
    "start_time": "2022-03-14T19:47:08.134Z"
   },
   {
    "duration": 4,
    "start_time": "2022-03-14T19:48:08.754Z"
   },
   {
    "duration": 64,
    "start_time": "2022-03-14T19:48:09.622Z"
   },
   {
    "duration": 373,
    "start_time": "2022-03-14T19:50:09.730Z"
   },
   {
    "duration": 263,
    "start_time": "2022-03-14T19:50:26.939Z"
   },
   {
    "duration": 198,
    "start_time": "2022-03-14T19:50:32.805Z"
   },
   {
    "duration": 11,
    "start_time": "2022-03-14T21:25:48.015Z"
   },
   {
    "duration": 238,
    "start_time": "2022-03-14T21:27:10.719Z"
   },
   {
    "duration": 278,
    "start_time": "2022-03-14T21:27:52.983Z"
   },
   {
    "duration": 6,
    "start_time": "2022-03-14T22:14:51.135Z"
   },
   {
    "duration": 4,
    "start_time": "2022-03-14T22:15:57.727Z"
   },
   {
    "duration": 5,
    "start_time": "2022-03-14T22:16:09.963Z"
   },
   {
    "duration": 5,
    "start_time": "2022-03-14T22:17:12.193Z"
   },
   {
    "duration": 11,
    "start_time": "2022-03-14T22:29:53.051Z"
   },
   {
    "duration": 11,
    "start_time": "2022-03-14T22:30:29.049Z"
   },
   {
    "duration": 7,
    "start_time": "2022-03-14T22:30:50.612Z"
   },
   {
    "duration": 4,
    "start_time": "2022-03-14T22:31:29.083Z"
   },
   {
    "duration": 4,
    "start_time": "2022-03-14T22:31:50.280Z"
   },
   {
    "duration": 101,
    "start_time": "2022-03-14T22:32:01.020Z"
   },
   {
    "duration": 297,
    "start_time": "2022-03-14T22:32:06.214Z"
   },
   {
    "duration": 293,
    "start_time": "2022-03-14T22:32:22.341Z"
   },
   {
    "duration": 4,
    "start_time": "2022-03-14T22:32:37.661Z"
   },
   {
    "duration": 299,
    "start_time": "2022-03-14T22:32:43.472Z"
   },
   {
    "duration": 95,
    "start_time": "2022-03-14T22:37:25.079Z"
   },
   {
    "duration": 274,
    "start_time": "2022-03-14T22:37:41.286Z"
   },
   {
    "duration": 469,
    "start_time": "2022-03-14T22:37:52.927Z"
   },
   {
    "duration": 7,
    "start_time": "2022-03-14T22:37:59.500Z"
   },
   {
    "duration": 60,
    "start_time": "2022-03-14T22:38:01.562Z"
   },
   {
    "duration": 98,
    "start_time": "2022-03-14T22:40:34.809Z"
   },
   {
    "duration": 296,
    "start_time": "2022-03-14T22:41:07.707Z"
   },
   {
    "duration": 306,
    "start_time": "2022-03-14T22:47:04.935Z"
   },
   {
    "duration": 4,
    "start_time": "2022-03-14T22:49:09.694Z"
   },
   {
    "duration": 4,
    "start_time": "2022-03-14T22:49:18.315Z"
   },
   {
    "duration": 4,
    "start_time": "2022-03-14T22:49:35.094Z"
   },
   {
    "duration": 4,
    "start_time": "2022-03-14T22:49:41.933Z"
   },
   {
    "duration": 4,
    "start_time": "2022-03-14T22:50:07.240Z"
   },
   {
    "duration": 58,
    "start_time": "2022-03-14T22:51:08.325Z"
   },
   {
    "duration": 60,
    "start_time": "2022-03-14T22:51:37.871Z"
   },
   {
    "duration": 4,
    "start_time": "2022-03-14T22:51:56.555Z"
   },
   {
    "duration": 90,
    "start_time": "2022-03-14T22:55:01.184Z"
   },
   {
    "duration": 4,
    "start_time": "2022-03-14T22:55:08.925Z"
   },
   {
    "duration": 5,
    "start_time": "2022-03-14T22:55:32.459Z"
   },
   {
    "duration": 5,
    "start_time": "2022-03-14T22:55:37.613Z"
   },
   {
    "duration": 4,
    "start_time": "2022-03-14T22:56:29.967Z"
   },
   {
    "duration": 270,
    "start_time": "2022-03-14T22:56:38.649Z"
   },
   {
    "duration": 101,
    "start_time": "2022-03-14T22:59:30.676Z"
   },
   {
    "duration": 103,
    "start_time": "2022-03-14T22:59:37.159Z"
   },
   {
    "duration": 3,
    "start_time": "2022-03-14T22:59:43.771Z"
   },
   {
    "duration": 295,
    "start_time": "2022-03-14T23:00:07.408Z"
   },
   {
    "duration": 327,
    "start_time": "2022-03-14T23:00:17.292Z"
   },
   {
    "duration": 61,
    "start_time": "2022-03-14T23:00:21.776Z"
   },
   {
    "duration": 70,
    "start_time": "2022-03-14T23:01:15.877Z"
   },
   {
    "duration": 58,
    "start_time": "2022-03-14T23:01:16.641Z"
   },
   {
    "duration": 1282,
    "start_time": "2022-03-15T10:30:03.737Z"
   },
   {
    "duration": 397,
    "start_time": "2022-03-15T10:30:05.021Z"
   },
   {
    "duration": 13,
    "start_time": "2022-03-15T10:30:05.421Z"
   },
   {
    "duration": 31,
    "start_time": "2022-03-15T10:30:05.436Z"
   },
   {
    "duration": 37,
    "start_time": "2022-03-15T10:30:05.469Z"
   },
   {
    "duration": 44,
    "start_time": "2022-03-15T10:30:05.508Z"
   },
   {
    "duration": 22,
    "start_time": "2022-03-15T10:30:05.554Z"
   },
   {
    "duration": 10,
    "start_time": "2022-03-15T10:30:05.578Z"
   },
   {
    "duration": 42,
    "start_time": "2022-03-15T10:30:05.590Z"
   },
   {
    "duration": 48,
    "start_time": "2022-03-15T10:30:05.634Z"
   },
   {
    "duration": 24,
    "start_time": "2022-03-15T10:30:05.684Z"
   },
   {
    "duration": 20,
    "start_time": "2022-03-15T10:30:05.710Z"
   },
   {
    "duration": 109,
    "start_time": "2022-03-15T10:30:05.732Z"
   },
   {
    "duration": 13,
    "start_time": "2022-03-15T10:30:05.843Z"
   },
   {
    "duration": 25,
    "start_time": "2022-03-15T10:30:05.858Z"
   },
   {
    "duration": 43,
    "start_time": "2022-03-15T10:30:05.885Z"
   },
   {
    "duration": 17,
    "start_time": "2022-03-15T10:30:05.930Z"
   },
   {
    "duration": 370,
    "start_time": "2022-03-15T10:30:05.948Z"
   },
   {
    "duration": 494,
    "start_time": "2022-03-15T10:30:06.321Z"
   },
   {
    "duration": 325,
    "start_time": "2022-03-15T10:30:06.817Z"
   },
   {
    "duration": 7,
    "start_time": "2022-03-15T10:30:07.144Z"
   },
   {
    "duration": 48,
    "start_time": "2022-03-15T10:30:07.153Z"
   },
   {
    "duration": 88,
    "start_time": "2022-03-15T10:30:07.205Z"
   },
   {
    "duration": 73,
    "start_time": "2022-03-15T10:30:07.295Z"
   },
   {
    "duration": 75,
    "start_time": "2022-03-15T10:30:07.370Z"
   },
   {
    "duration": 8,
    "start_time": "2022-03-15T10:30:07.447Z"
   },
   {
    "duration": 383,
    "start_time": "2022-03-15T10:30:07.457Z"
   },
   {
    "duration": 65,
    "start_time": "2022-03-15T10:30:07.777Z"
   },
   {
    "duration": 63,
    "start_time": "2022-03-15T10:30:07.781Z"
   },
   {
    "duration": 15,
    "start_time": "2022-03-15T10:32:17.605Z"
   },
   {
    "duration": 1277,
    "start_time": "2022-03-15T10:38:39.338Z"
   },
   {
    "duration": 412,
    "start_time": "2022-03-15T10:38:40.617Z"
   },
   {
    "duration": 14,
    "start_time": "2022-03-15T10:38:41.031Z"
   },
   {
    "duration": 10,
    "start_time": "2022-03-15T10:38:41.047Z"
   },
   {
    "duration": 20,
    "start_time": "2022-03-15T10:38:41.059Z"
   },
   {
    "duration": 28,
    "start_time": "2022-03-15T10:38:41.101Z"
   },
   {
    "duration": 19,
    "start_time": "2022-03-15T10:38:41.131Z"
   },
   {
    "duration": 5,
    "start_time": "2022-03-15T10:38:41.153Z"
   },
   {
    "duration": 44,
    "start_time": "2022-03-15T10:38:41.161Z"
   },
   {
    "duration": 23,
    "start_time": "2022-03-15T10:38:41.207Z"
   },
   {
    "duration": 3,
    "start_time": "2022-03-15T10:38:41.232Z"
   },
   {
    "duration": 9,
    "start_time": "2022-03-15T10:38:41.237Z"
   },
   {
    "duration": 112,
    "start_time": "2022-03-15T10:38:41.248Z"
   },
   {
    "duration": 13,
    "start_time": "2022-03-15T10:38:41.362Z"
   },
   {
    "duration": 26,
    "start_time": "2022-03-15T10:38:41.377Z"
   },
   {
    "duration": 9,
    "start_time": "2022-03-15T10:38:41.405Z"
   },
   {
    "duration": 12,
    "start_time": "2022-03-15T10:38:41.416Z"
   },
   {
    "duration": 384,
    "start_time": "2022-03-15T10:38:41.430Z"
   },
   {
    "duration": 448,
    "start_time": "2022-03-15T10:38:41.901Z"
   },
   {
    "duration": 330,
    "start_time": "2022-03-15T10:38:42.351Z"
   },
   {
    "duration": 19,
    "start_time": "2022-03-15T10:38:42.683Z"
   },
   {
    "duration": 15,
    "start_time": "2022-03-15T10:38:42.704Z"
   },
   {
    "duration": 3,
    "start_time": "2022-03-15T10:38:42.723Z"
   },
   {
    "duration": 99,
    "start_time": "2022-03-15T10:38:42.729Z"
   },
   {
    "duration": 75,
    "start_time": "2022-03-15T10:38:42.830Z"
   },
   {
    "duration": 81,
    "start_time": "2022-03-15T10:38:42.907Z"
   },
   {
    "duration": 6,
    "start_time": "2022-03-15T10:38:43.002Z"
   },
   {
    "duration": 463,
    "start_time": "2022-03-15T10:38:43.010Z"
   },
   {
    "duration": 63,
    "start_time": "2022-03-15T10:38:43.413Z"
   },
   {
    "duration": 54,
    "start_time": "2022-03-15T10:38:43.423Z"
   },
   {
    "duration": 8,
    "start_time": "2022-03-15T10:41:05.983Z"
   },
   {
    "duration": 12,
    "start_time": "2022-03-15T10:42:20.325Z"
   },
   {
    "duration": 14,
    "start_time": "2022-03-15T10:59:59.829Z"
   },
   {
    "duration": 24,
    "start_time": "2022-03-15T11:00:18.539Z"
   },
   {
    "duration": 243,
    "start_time": "2022-03-15T11:03:22.982Z"
   },
   {
    "duration": 274,
    "start_time": "2022-03-15T11:06:30.902Z"
   },
   {
    "duration": 364,
    "start_time": "2022-03-15T11:06:34.952Z"
   },
   {
    "duration": 400,
    "start_time": "2022-03-15T11:06:39.285Z"
   },
   {
    "duration": 577,
    "start_time": "2022-03-15T11:06:45.968Z"
   },
   {
    "duration": 574,
    "start_time": "2022-03-15T11:07:07.278Z"
   },
   {
    "duration": 424,
    "start_time": "2022-03-15T11:07:13.917Z"
   },
   {
    "duration": 527,
    "start_time": "2022-03-15T11:07:18.567Z"
   },
   {
    "duration": 312,
    "start_time": "2022-03-15T11:07:38.135Z"
   },
   {
    "duration": 312,
    "start_time": "2022-03-15T11:07:43.479Z"
   },
   {
    "duration": 242,
    "start_time": "2022-03-15T11:07:59.271Z"
   },
   {
    "duration": 294,
    "start_time": "2022-03-15T11:08:30.314Z"
   },
   {
    "duration": 234,
    "start_time": "2022-03-15T11:08:37.197Z"
   },
   {
    "duration": 258,
    "start_time": "2022-03-15T11:08:40.908Z"
   },
   {
    "duration": 236,
    "start_time": "2022-03-15T11:08:48.561Z"
   },
   {
    "duration": 295,
    "start_time": "2022-03-15T11:08:53.263Z"
   },
   {
    "duration": 238,
    "start_time": "2022-03-15T11:09:16.615Z"
   },
   {
    "duration": 475,
    "start_time": "2022-03-15T11:11:58.378Z"
   },
   {
    "duration": 373,
    "start_time": "2022-03-15T11:14:23.718Z"
   },
   {
    "duration": 364,
    "start_time": "2022-03-15T11:14:30.646Z"
   },
   {
    "duration": 411,
    "start_time": "2022-03-15T11:14:41.676Z"
   },
   {
    "duration": 499,
    "start_time": "2022-03-15T11:16:47.331Z"
   },
   {
    "duration": 487,
    "start_time": "2022-03-15T11:16:53.916Z"
   },
   {
    "duration": 664,
    "start_time": "2022-03-15T11:19:02.211Z"
   },
   {
    "duration": 79,
    "start_time": "2022-03-15T11:19:38.231Z"
   },
   {
    "duration": 84,
    "start_time": "2022-03-15T11:19:50.150Z"
   },
   {
    "duration": 520,
    "start_time": "2022-03-15T11:20:00.581Z"
   },
   {
    "duration": 488,
    "start_time": "2022-03-15T11:20:33.321Z"
   },
   {
    "duration": 516,
    "start_time": "2022-03-15T11:23:18.542Z"
   },
   {
    "duration": 522,
    "start_time": "2022-03-15T11:23:29.526Z"
   },
   {
    "duration": 503,
    "start_time": "2022-03-15T11:24:16.920Z"
   },
   {
    "duration": 559,
    "start_time": "2022-03-15T11:25:41.159Z"
   },
   {
    "duration": 5804,
    "start_time": "2022-03-15T11:26:17.505Z"
   },
   {
    "duration": 651,
    "start_time": "2022-03-15T11:27:03.330Z"
   },
   {
    "duration": 669,
    "start_time": "2022-03-15T11:27:26.094Z"
   },
   {
    "duration": 523,
    "start_time": "2022-03-15T11:28:14.315Z"
   },
   {
    "duration": 604,
    "start_time": "2022-03-15T11:28:48.248Z"
   },
   {
    "duration": 574,
    "start_time": "2022-03-15T11:28:56.007Z"
   },
   {
    "duration": 748,
    "start_time": "2022-03-15T11:29:03.269Z"
   },
   {
    "duration": 552,
    "start_time": "2022-03-15T11:29:10.784Z"
   },
   {
    "duration": 559,
    "start_time": "2022-03-15T11:29:35.612Z"
   },
   {
    "duration": 688,
    "start_time": "2022-03-15T11:29:57.661Z"
   },
   {
    "duration": 468,
    "start_time": "2022-03-15T11:30:19.425Z"
   },
   {
    "duration": 519,
    "start_time": "2022-03-15T11:30:59.497Z"
   },
   {
    "duration": 675,
    "start_time": "2022-03-15T11:31:43.697Z"
   },
   {
    "duration": 528,
    "start_time": "2022-03-15T11:32:20.162Z"
   },
   {
    "duration": 102,
    "start_time": "2022-03-15T11:33:31.237Z"
   },
   {
    "duration": 526,
    "start_time": "2022-03-15T11:33:35.757Z"
   },
   {
    "duration": 544,
    "start_time": "2022-03-15T11:34:16.166Z"
   },
   {
    "duration": 531,
    "start_time": "2022-03-15T11:34:43.213Z"
   },
   {
    "duration": 461,
    "start_time": "2022-03-15T11:35:31.846Z"
   },
   {
    "duration": 498,
    "start_time": "2022-03-15T11:35:47.236Z"
   },
   {
    "duration": 518,
    "start_time": "2022-03-15T11:36:18.250Z"
   },
   {
    "duration": 706,
    "start_time": "2022-03-15T11:43:01.775Z"
   },
   {
    "duration": 460,
    "start_time": "2022-03-15T11:58:29.741Z"
   },
   {
    "duration": 482,
    "start_time": "2022-03-15T11:59:08.278Z"
   },
   {
    "duration": 590,
    "start_time": "2022-03-15T11:59:20.601Z"
   },
   {
    "duration": 7,
    "start_time": "2022-03-15T12:02:03.410Z"
   },
   {
    "duration": 84,
    "start_time": "2022-03-15T12:02:10.458Z"
   },
   {
    "duration": 6,
    "start_time": "2022-03-15T12:02:21.511Z"
   },
   {
    "duration": 8,
    "start_time": "2022-03-15T12:02:33.195Z"
   },
   {
    "duration": 11,
    "start_time": "2022-03-15T12:02:38.994Z"
   },
   {
    "duration": 9,
    "start_time": "2022-03-15T12:02:43.555Z"
   },
   {
    "duration": 8,
    "start_time": "2022-03-15T12:03:09.379Z"
   },
   {
    "duration": 8,
    "start_time": "2022-03-15T12:03:14.178Z"
   },
   {
    "duration": 8,
    "start_time": "2022-03-15T12:03:18.370Z"
   },
   {
    "duration": 3,
    "start_time": "2022-03-15T12:04:41.059Z"
   },
   {
    "duration": 92,
    "start_time": "2022-03-15T12:04:47.555Z"
   },
   {
    "duration": 5,
    "start_time": "2022-03-15T13:38:42.435Z"
   },
   {
    "duration": 347,
    "start_time": "2022-03-15T13:39:35.030Z"
   },
   {
    "duration": 4,
    "start_time": "2022-03-15T13:39:37.713Z"
   },
   {
    "duration": 561,
    "start_time": "2022-03-15T13:39:51.026Z"
   },
   {
    "duration": 5,
    "start_time": "2022-03-15T13:39:58.576Z"
   },
   {
    "duration": 507,
    "start_time": "2022-03-15T13:39:59.553Z"
   },
   {
    "duration": 6,
    "start_time": "2022-03-15T13:43:18.630Z"
   },
   {
    "duration": 5,
    "start_time": "2022-03-15T13:43:25.466Z"
   },
   {
    "duration": 12,
    "start_time": "2022-03-15T13:43:42.523Z"
   },
   {
    "duration": 272,
    "start_time": "2022-03-15T13:44:30.916Z"
   },
   {
    "duration": 4,
    "start_time": "2022-03-15T13:44:34.917Z"
   },
   {
    "duration": 5,
    "start_time": "2022-03-15T13:44:35.819Z"
   },
   {
    "duration": 14,
    "start_time": "2022-03-15T13:44:41.795Z"
   },
   {
    "duration": 14,
    "start_time": "2022-03-15T13:46:04.086Z"
   },
   {
    "duration": 13,
    "start_time": "2022-03-15T13:46:06.938Z"
   },
   {
    "duration": 106,
    "start_time": "2022-03-15T13:54:31.199Z"
   },
   {
    "duration": 101,
    "start_time": "2022-03-15T13:55:17.709Z"
   },
   {
    "duration": 110,
    "start_time": "2022-03-15T13:55:28.256Z"
   },
   {
    "duration": 6,
    "start_time": "2022-03-15T13:55:47.947Z"
   },
   {
    "duration": 532,
    "start_time": "2022-03-15T13:56:26.704Z"
   },
   {
    "duration": 6,
    "start_time": "2022-03-15T13:57:02.121Z"
   },
   {
    "duration": 511,
    "start_time": "2022-03-15T13:57:02.740Z"
   },
   {
    "duration": 5,
    "start_time": "2022-03-15T13:57:57.465Z"
   },
   {
    "duration": 624,
    "start_time": "2022-03-15T13:57:58.082Z"
   },
   {
    "duration": 7,
    "start_time": "2022-03-15T14:00:29.394Z"
   },
   {
    "duration": 535,
    "start_time": "2022-03-15T14:00:30.044Z"
   },
   {
    "duration": 5,
    "start_time": "2022-03-15T14:01:24.382Z"
   },
   {
    "duration": 747,
    "start_time": "2022-03-15T14:01:25.085Z"
   },
   {
    "duration": 78,
    "start_time": "2022-03-15T14:02:41.732Z"
   },
   {
    "duration": 6,
    "start_time": "2022-03-15T14:04:46.558Z"
   },
   {
    "duration": 677,
    "start_time": "2022-03-15T14:04:47.479Z"
   },
   {
    "duration": 9,
    "start_time": "2022-03-15T14:05:18.763Z"
   },
   {
    "duration": 20,
    "start_time": "2022-03-15T14:05:19.305Z"
   },
   {
    "duration": 13,
    "start_time": "2022-03-15T14:05:41.949Z"
   },
   {
    "duration": 17,
    "start_time": "2022-03-15T14:05:44.395Z"
   },
   {
    "duration": 6,
    "start_time": "2022-03-15T14:30:12.578Z"
   },
   {
    "duration": 13,
    "start_time": "2022-03-15T14:30:13.361Z"
   },
   {
    "duration": 12,
    "start_time": "2022-03-15T14:30:23.948Z"
   },
   {
    "duration": 16,
    "start_time": "2022-03-15T14:30:32.148Z"
   },
   {
    "duration": 9,
    "start_time": "2022-03-15T14:38:21.388Z"
   },
   {
    "duration": 1037,
    "start_time": "2022-03-15T14:38:55.637Z"
   },
   {
    "duration": 1009,
    "start_time": "2022-03-15T14:39:55.154Z"
   },
   {
    "duration": 973,
    "start_time": "2022-03-15T14:39:57.884Z"
   },
   {
    "duration": 18,
    "start_time": "2022-03-15T16:17:51.605Z"
   },
   {
    "duration": 21,
    "start_time": "2022-03-15T16:17:57.521Z"
   },
   {
    "duration": 1274,
    "start_time": "2022-03-15T16:20:18.719Z"
   },
   {
    "duration": 400,
    "start_time": "2022-03-15T16:20:19.995Z"
   },
   {
    "duration": 15,
    "start_time": "2022-03-15T16:20:20.397Z"
   },
   {
    "duration": 11,
    "start_time": "2022-03-15T16:20:20.415Z"
   },
   {
    "duration": 15,
    "start_time": "2022-03-15T16:20:20.428Z"
   },
   {
    "duration": 39,
    "start_time": "2022-03-15T16:20:20.445Z"
   },
   {
    "duration": 24,
    "start_time": "2022-03-15T16:20:20.501Z"
   },
   {
    "duration": 24,
    "start_time": "2022-03-15T16:20:20.529Z"
   },
   {
    "duration": 4,
    "start_time": "2022-03-15T16:20:20.555Z"
   },
   {
    "duration": 25,
    "start_time": "2022-03-15T16:20:20.560Z"
   },
   {
    "duration": 97,
    "start_time": "2022-03-15T16:20:20.587Z"
   },
   {
    "duration": 22,
    "start_time": "2022-03-15T16:20:20.686Z"
   },
   {
    "duration": 21,
    "start_time": "2022-03-15T16:20:20.710Z"
   },
   {
    "duration": 11,
    "start_time": "2022-03-15T16:20:20.733Z"
   },
   {
    "duration": 22,
    "start_time": "2022-03-15T16:20:20.746Z"
   },
   {
    "duration": 446,
    "start_time": "2022-03-15T16:20:20.770Z"
   },
   {
    "duration": 495,
    "start_time": "2022-03-15T16:20:21.219Z"
   },
   {
    "duration": 313,
    "start_time": "2022-03-15T16:20:21.716Z"
   },
   {
    "duration": 7,
    "start_time": "2022-03-15T16:20:22.031Z"
   },
   {
    "duration": 56,
    "start_time": "2022-03-15T16:20:22.039Z"
   },
   {
    "duration": 15,
    "start_time": "2022-03-15T16:20:22.097Z"
   },
   {
    "duration": 5,
    "start_time": "2022-03-15T16:20:22.114Z"
   },
   {
    "duration": 110,
    "start_time": "2022-03-15T16:20:22.122Z"
   },
   {
    "duration": 86,
    "start_time": "2022-03-15T16:20:22.234Z"
   },
   {
    "duration": 84,
    "start_time": "2022-03-15T16:20:22.323Z"
   },
   {
    "duration": 455,
    "start_time": "2022-03-15T16:20:22.408Z"
   },
   {
    "duration": 5,
    "start_time": "2022-03-15T16:20:22.865Z"
   },
   {
    "duration": 43,
    "start_time": "2022-03-15T16:20:22.872Z"
   },
   {
    "duration": 37,
    "start_time": "2022-03-15T16:20:22.917Z"
   },
   {
    "duration": 22,
    "start_time": "2022-03-15T16:20:22.957Z"
   },
   {
    "duration": 72,
    "start_time": "2022-03-15T16:20:22.981Z"
   },
   {
    "duration": 28,
    "start_time": "2022-03-15T16:20:23.055Z"
   },
   {
    "duration": 977,
    "start_time": "2022-03-15T16:20:23.085Z"
   },
   {
    "duration": 957,
    "start_time": "2022-03-15T16:20:24.064Z"
   },
   {
    "duration": 966,
    "start_time": "2022-03-15T16:20:25.023Z"
   },
   {
    "duration": 27,
    "start_time": "2022-03-15T16:22:18.740Z"
   },
   {
    "duration": 29,
    "start_time": "2022-03-15T16:22:38.271Z"
   },
   {
    "duration": 24,
    "start_time": "2022-03-15T16:22:50.780Z"
   },
   {
    "duration": 19,
    "start_time": "2022-03-15T16:23:51.694Z"
   },
   {
    "duration": 8,
    "start_time": "2022-03-15T16:25:29.789Z"
   },
   {
    "duration": 148,
    "start_time": "2022-03-15T16:33:20.498Z"
   },
   {
    "duration": 122,
    "start_time": "2022-03-15T17:56:17.367Z"
   },
   {
    "duration": 97,
    "start_time": "2022-03-15T17:56:24.174Z"
   },
   {
    "duration": 7,
    "start_time": "2022-03-15T17:56:47.725Z"
   },
   {
    "duration": 90,
    "start_time": "2022-03-15T17:56:49.142Z"
   },
   {
    "duration": 305,
    "start_time": "2022-03-15T18:13:01.526Z"
   },
   {
    "duration": 314,
    "start_time": "2022-03-15T18:13:04.924Z"
   },
   {
    "duration": 6,
    "start_time": "2022-03-15T18:19:25.790Z"
   },
   {
    "duration": 5,
    "start_time": "2022-03-15T18:19:46.687Z"
   },
   {
    "duration": 6,
    "start_time": "2022-03-15T18:19:59.361Z"
   },
   {
    "duration": 97,
    "start_time": "2022-03-15T18:20:23.250Z"
   },
   {
    "duration": 8,
    "start_time": "2022-03-15T18:20:34.287Z"
   },
   {
    "duration": 8,
    "start_time": "2022-03-15T18:20:54.375Z"
   },
   {
    "duration": 7,
    "start_time": "2022-03-15T18:21:04.456Z"
   },
   {
    "duration": 12,
    "start_time": "2022-03-15T18:21:13.020Z"
   },
   {
    "duration": 4,
    "start_time": "2022-03-15T18:22:02.143Z"
   },
   {
    "duration": 499,
    "start_time": "2022-03-15T18:27:33.258Z"
   },
   {
    "duration": 8,
    "start_time": "2022-03-15T18:36:28.541Z"
   },
   {
    "duration": 14,
    "start_time": "2022-03-15T18:36:35.589Z"
   },
   {
    "duration": 99,
    "start_time": "2022-03-15T18:59:34.002Z"
   },
   {
    "duration": 86,
    "start_time": "2022-03-15T18:59:50.616Z"
   },
   {
    "duration": 95,
    "start_time": "2022-03-15T19:00:05.383Z"
   },
   {
    "duration": 6,
    "start_time": "2022-03-15T19:01:05.843Z"
   },
   {
    "duration": 8,
    "start_time": "2022-03-15T19:01:20.307Z"
   },
   {
    "duration": 1109,
    "start_time": "2022-03-15T19:01:20.835Z"
   },
   {
    "duration": 6,
    "start_time": "2022-03-15T19:03:33.466Z"
   },
   {
    "duration": 1061,
    "start_time": "2022-03-15T19:03:34.121Z"
   },
   {
    "duration": 5,
    "start_time": "2022-03-15T19:05:21.448Z"
   },
   {
    "duration": 1029,
    "start_time": "2022-03-15T19:05:21.926Z"
   },
   {
    "duration": 1051,
    "start_time": "2022-03-15T19:05:22.962Z"
   },
   {
    "duration": 80,
    "start_time": "2022-03-15T19:06:59.125Z"
   },
   {
    "duration": 6,
    "start_time": "2022-03-15T19:07:18.283Z"
   },
   {
    "duration": 1267,
    "start_time": "2022-03-15T19:07:19.337Z"
   },
   {
    "duration": 1219,
    "start_time": "2022-03-15T19:07:29.313Z"
   },
   {
    "duration": 1155,
    "start_time": "2022-03-15T19:07:33.397Z"
   },
   {
    "duration": 7,
    "start_time": "2022-03-15T19:07:59.125Z"
   },
   {
    "duration": 1104,
    "start_time": "2022-03-15T19:07:59.812Z"
   },
   {
    "duration": 1127,
    "start_time": "2022-03-15T19:08:03.134Z"
   },
   {
    "duration": 1117,
    "start_time": "2022-03-15T19:08:04.264Z"
   },
   {
    "duration": 5,
    "start_time": "2022-03-15T19:08:44.924Z"
   },
   {
    "duration": 1077,
    "start_time": "2022-03-15T19:08:45.389Z"
   },
   {
    "duration": 1045,
    "start_time": "2022-03-15T19:08:47.126Z"
   },
   {
    "duration": 1273,
    "start_time": "2022-03-15T19:08:48.636Z"
   },
   {
    "duration": 1691,
    "start_time": "2022-03-15T19:35:19.219Z"
   },
   {
    "duration": 559,
    "start_time": "2022-03-15T19:35:20.913Z"
   },
   {
    "duration": 29,
    "start_time": "2022-03-15T19:35:21.476Z"
   },
   {
    "duration": 22,
    "start_time": "2022-03-15T19:35:21.507Z"
   },
   {
    "duration": 21,
    "start_time": "2022-03-15T19:35:21.532Z"
   },
   {
    "duration": 230,
    "start_time": "2022-03-15T19:35:21.556Z"
   },
   {
    "duration": 36,
    "start_time": "2022-03-15T19:35:21.788Z"
   },
   {
    "duration": 28,
    "start_time": "2022-03-15T19:35:21.826Z"
   },
   {
    "duration": 5,
    "start_time": "2022-03-15T19:35:21.857Z"
   },
   {
    "duration": 122,
    "start_time": "2022-03-15T19:35:21.864Z"
   },
   {
    "duration": 4,
    "start_time": "2022-03-15T19:35:21.988Z"
   },
   {
    "duration": 21,
    "start_time": "2022-03-15T19:35:22.002Z"
   },
   {
    "duration": 20,
    "start_time": "2022-03-15T19:35:22.026Z"
   },
   {
    "duration": 372,
    "start_time": "2022-03-15T19:35:22.049Z"
   },
   {
    "duration": 556,
    "start_time": "2022-03-15T19:35:22.423Z"
   },
   {
    "duration": 376,
    "start_time": "2022-03-15T19:35:22.981Z"
   },
   {
    "duration": 8,
    "start_time": "2022-03-15T19:35:23.359Z"
   },
   {
    "duration": 11,
    "start_time": "2022-03-15T19:35:23.369Z"
   },
   {
    "duration": 138,
    "start_time": "2022-03-15T19:35:23.382Z"
   },
   {
    "duration": 136,
    "start_time": "2022-03-15T19:35:23.523Z"
   },
   {
    "duration": 94,
    "start_time": "2022-03-15T19:35:23.661Z"
   },
   {
    "duration": 611,
    "start_time": "2022-03-15T19:35:23.757Z"
   },
   {
    "duration": 9,
    "start_time": "2022-03-15T19:35:24.370Z"
   },
   {
    "duration": 58,
    "start_time": "2022-03-15T19:35:24.381Z"
   },
   {
    "duration": 30,
    "start_time": "2022-03-15T19:35:24.441Z"
   },
   {
    "duration": 107,
    "start_time": "2022-03-15T19:35:24.473Z"
   },
   {
    "duration": 24,
    "start_time": "2022-03-15T19:35:24.584Z"
   },
   {
    "duration": 1285,
    "start_time": "2022-03-15T19:35:24.611Z"
   },
   {
    "duration": 1076,
    "start_time": "2022-03-15T19:35:25.901Z"
   },
   {
    "duration": 1118,
    "start_time": "2022-03-15T19:35:26.980Z"
   },
   {
    "duration": 7,
    "start_time": "2022-03-15T19:39:34.175Z"
   },
   {
    "duration": 1331,
    "start_time": "2022-03-15T21:37:14.861Z"
   },
   {
    "duration": 420,
    "start_time": "2022-03-15T21:37:16.194Z"
   },
   {
    "duration": 21,
    "start_time": "2022-03-15T21:37:16.617Z"
   },
   {
    "duration": 13,
    "start_time": "2022-03-15T21:37:16.641Z"
   },
   {
    "duration": 25,
    "start_time": "2022-03-15T21:37:16.657Z"
   },
   {
    "duration": 224,
    "start_time": "2022-03-15T21:37:16.702Z"
   },
   {
    "duration": 32,
    "start_time": "2022-03-15T21:37:16.928Z"
   },
   {
    "duration": 8,
    "start_time": "2022-03-15T21:37:16.964Z"
   },
   {
    "duration": 29,
    "start_time": "2022-03-15T21:37:16.975Z"
   },
   {
    "duration": 131,
    "start_time": "2022-03-15T21:37:17.007Z"
   },
   {
    "duration": 4,
    "start_time": "2022-03-15T21:37:17.141Z"
   },
   {
    "duration": 42,
    "start_time": "2022-03-15T21:37:17.147Z"
   },
   {
    "duration": 11,
    "start_time": "2022-03-15T21:37:17.191Z"
   },
   {
    "duration": 407,
    "start_time": "2022-03-15T21:37:17.204Z"
   },
   {
    "duration": 600,
    "start_time": "2022-03-15T21:37:17.613Z"
   },
   {
    "duration": 413,
    "start_time": "2022-03-15T21:37:18.215Z"
   },
   {
    "duration": 8,
    "start_time": "2022-03-15T21:37:18.631Z"
   },
   {
    "duration": 9,
    "start_time": "2022-03-15T21:37:18.641Z"
   },
   {
    "duration": 97,
    "start_time": "2022-03-15T21:37:18.652Z"
   },
   {
    "duration": 133,
    "start_time": "2022-03-15T21:37:18.751Z"
   },
   {
    "duration": 80,
    "start_time": "2022-03-15T21:37:18.886Z"
   },
   {
    "duration": 697,
    "start_time": "2022-03-15T21:37:18.968Z"
   },
   {
    "duration": 6,
    "start_time": "2022-03-15T21:37:19.668Z"
   },
   {
    "duration": 81,
    "start_time": "2022-03-15T21:37:19.677Z"
   },
   {
    "duration": 24,
    "start_time": "2022-03-15T21:37:19.760Z"
   },
   {
    "duration": 19,
    "start_time": "2022-03-15T21:37:19.786Z"
   },
   {
    "duration": 76,
    "start_time": "2022-03-15T21:37:19.807Z"
   },
   {
    "duration": 1062,
    "start_time": "2022-03-15T21:37:19.886Z"
   },
   {
    "duration": 1187,
    "start_time": "2022-03-15T21:37:20.950Z"
   },
   {
    "duration": 1369,
    "start_time": "2022-03-15T21:37:22.139Z"
   },
   {
    "duration": 444,
    "start_time": "2022-03-15T21:37:33.319Z"
   },
   {
    "duration": 7,
    "start_time": "2022-03-15T21:38:15.610Z"
   },
   {
    "duration": 968,
    "start_time": "2022-03-15T21:38:25.322Z"
   },
   {
    "duration": 6,
    "start_time": "2022-03-15T21:38:37.219Z"
   },
   {
    "duration": 1070,
    "start_time": "2022-03-15T21:38:39.019Z"
   },
   {
    "duration": 6,
    "start_time": "2022-03-15T21:39:20.484Z"
   },
   {
    "duration": 963,
    "start_time": "2022-03-15T21:39:22.009Z"
   },
   {
    "duration": 7,
    "start_time": "2022-03-15T21:39:29.596Z"
   },
   {
    "duration": 1011,
    "start_time": "2022-03-15T21:39:31.015Z"
   },
   {
    "duration": 6,
    "start_time": "2022-03-15T21:39:45.674Z"
   },
   {
    "duration": 1009,
    "start_time": "2022-03-15T21:39:50.506Z"
   },
   {
    "duration": 1572,
    "start_time": "2022-03-21T22:06:59.054Z"
   },
   {
    "duration": 341,
    "start_time": "2022-03-21T22:07:00.628Z"
   },
   {
    "duration": 13,
    "start_time": "2022-03-21T22:07:00.971Z"
   },
   {
    "duration": 9,
    "start_time": "2022-03-21T22:07:00.986Z"
   },
   {
    "duration": 20,
    "start_time": "2022-03-21T22:07:00.996Z"
   },
   {
    "duration": 161,
    "start_time": "2022-03-21T22:07:01.018Z"
   },
   {
    "duration": 19,
    "start_time": "2022-03-21T22:07:01.181Z"
   },
   {
    "duration": 13,
    "start_time": "2022-03-21T22:07:01.202Z"
   },
   {
    "duration": 14,
    "start_time": "2022-03-21T22:07:01.217Z"
   },
   {
    "duration": 102,
    "start_time": "2022-03-21T22:07:01.234Z"
   },
   {
    "duration": 3,
    "start_time": "2022-03-21T22:07:01.338Z"
   },
   {
    "duration": 15,
    "start_time": "2022-03-21T22:07:01.342Z"
   },
   {
    "duration": 10,
    "start_time": "2022-03-21T22:07:01.358Z"
   },
   {
    "duration": 474,
    "start_time": "2022-03-21T22:07:01.369Z"
   },
   {
    "duration": 490,
    "start_time": "2022-03-21T22:07:01.845Z"
   },
   {
    "duration": 295,
    "start_time": "2022-03-21T22:07:02.337Z"
   },
   {
    "duration": 7,
    "start_time": "2022-03-21T22:07:02.634Z"
   },
   {
    "duration": 11,
    "start_time": "2022-03-21T22:07:02.643Z"
   },
   {
    "duration": 56,
    "start_time": "2022-03-21T22:07:02.656Z"
   },
   {
    "duration": 65,
    "start_time": "2022-03-21T22:07:02.714Z"
   },
   {
    "duration": 63,
    "start_time": "2022-03-21T22:07:02.781Z"
   },
   {
    "duration": 315,
    "start_time": "2022-03-21T22:07:02.845Z"
   },
   {
    "duration": 4,
    "start_time": "2022-03-21T22:07:03.162Z"
   },
   {
    "duration": 16,
    "start_time": "2022-03-21T22:07:03.168Z"
   },
   {
    "duration": 10,
    "start_time": "2022-03-21T22:07:03.185Z"
   },
   {
    "duration": 12,
    "start_time": "2022-03-21T22:07:03.197Z"
   },
   {
    "duration": 26,
    "start_time": "2022-03-21T22:07:03.211Z"
   },
   {
    "duration": 654,
    "start_time": "2022-03-21T22:07:03.240Z"
   },
   {
    "duration": 642,
    "start_time": "2022-03-21T22:07:03.896Z"
   },
   {
    "duration": 643,
    "start_time": "2022-03-21T22:07:04.540Z"
   },
   {
    "duration": 1373,
    "start_time": "2022-03-21T22:10:20.433Z"
   },
   {
    "duration": 346,
    "start_time": "2022-03-21T22:10:21.808Z"
   },
   {
    "duration": 14,
    "start_time": "2022-03-21T22:10:22.155Z"
   },
   {
    "duration": 8,
    "start_time": "2022-03-21T22:10:22.171Z"
   },
   {
    "duration": 10,
    "start_time": "2022-03-21T22:10:22.181Z"
   },
   {
    "duration": 161,
    "start_time": "2022-03-21T22:10:22.192Z"
   },
   {
    "duration": 19,
    "start_time": "2022-03-21T22:10:22.355Z"
   },
   {
    "duration": 10,
    "start_time": "2022-03-21T22:10:22.376Z"
   },
   {
    "duration": 3,
    "start_time": "2022-03-21T22:10:22.388Z"
   },
   {
    "duration": 108,
    "start_time": "2022-03-21T22:10:22.393Z"
   },
   {
    "duration": 3,
    "start_time": "2022-03-21T22:10:22.503Z"
   },
   {
    "duration": 12,
    "start_time": "2022-03-21T22:10:22.507Z"
   },
   {
    "duration": 13,
    "start_time": "2022-03-21T22:10:22.521Z"
   },
   {
    "duration": 407,
    "start_time": "2022-03-21T22:10:22.535Z"
   },
   {
    "duration": 504,
    "start_time": "2022-03-21T22:10:22.944Z"
   },
   {
    "duration": 287,
    "start_time": "2022-03-21T22:10:23.451Z"
   },
   {
    "duration": 7,
    "start_time": "2022-03-21T22:10:23.740Z"
   },
   {
    "duration": 7,
    "start_time": "2022-03-21T22:10:23.749Z"
   },
   {
    "duration": 49,
    "start_time": "2022-03-21T22:10:23.757Z"
   },
   {
    "duration": 64,
    "start_time": "2022-03-21T22:10:23.808Z"
   },
   {
    "duration": 60,
    "start_time": "2022-03-21T22:10:23.874Z"
   },
   {
    "duration": 323,
    "start_time": "2022-03-21T22:10:23.936Z"
   },
   {
    "duration": 5,
    "start_time": "2022-03-21T22:10:24.261Z"
   },
   {
    "duration": 19,
    "start_time": "2022-03-21T22:10:24.268Z"
   },
   {
    "duration": 10,
    "start_time": "2022-03-21T22:10:24.288Z"
   },
   {
    "duration": 10,
    "start_time": "2022-03-21T22:10:24.300Z"
   },
   {
    "duration": 5,
    "start_time": "2022-03-21T22:10:24.332Z"
   },
   {
    "duration": 640,
    "start_time": "2022-03-21T22:10:24.340Z"
   },
   {
    "duration": 620,
    "start_time": "2022-03-21T22:10:24.982Z"
   },
   {
    "duration": 631,
    "start_time": "2022-03-21T22:10:25.604Z"
   }
  ],
  "kernelspec": {
   "display_name": "Python 3 (ipykernel)",
   "language": "python",
   "name": "python3"
  },
  "language_info": {
   "codemirror_mode": {
    "name": "ipython",
    "version": 3
   },
   "file_extension": ".py",
   "mimetype": "text/x-python",
   "name": "python",
   "nbconvert_exporter": "python",
   "pygments_lexer": "ipython3",
   "version": "3.8.10"
  },
  "toc": {
   "base_numbering": 1,
   "nav_menu": {
    "height": "61px",
    "width": "257px"
   },
   "number_sections": true,
   "sideBar": true,
   "skip_h1_title": true,
   "title_cell": "Содержание",
   "title_sidebar": "Содержание",
   "toc_cell": true,
   "toc_position": {
    "height": "calc(100% - 180px)",
    "left": "10px",
    "top": "150px",
    "width": "366.4px"
   },
   "toc_section_display": true,
   "toc_window_display": true
  }
 },
 "nbformat": 4,
 "nbformat_minor": 2
}
